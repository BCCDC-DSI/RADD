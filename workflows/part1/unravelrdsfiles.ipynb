{
 "cells": [
  {
   "cell_type": "code",
   "execution_count": 1,
   "metadata": {},
   "outputs": [],
   "source": [
    "import os\n",
    "import pandas as pd\n",
    "import matplotlib.pyplot as plt\n",
    "import seaborn as sns\n",
    "from rds2py import read_rds\n",
    "import glob"
   ]
  },
  {
   "cell_type": "code",
   "execution_count": 2,
   "metadata": {},
   "outputs": [],
   "source": [
    "folder_path = '/scratch/st-ashapi01-1/expedited_2024/HRN_2023-10-01_v4_v5'\n",
    "dates_path = 'data/MS/dates.rds'\n",
    "database_path = 'data/databases/NPS DB-240214.csv'\n",
    "rds_data = read_rds(os.path.join(folder_path, '2024-2340BG01.rds'))\n"
   ]
  },
  {
   "cell_type": "code",
   "execution_count": 3,
   "metadata": {},
   "outputs": [
    {
     "name": "stdout",
     "output_type": "stream",
     "text": [
      "2\n",
      "1119\n"
     ]
    }
   ],
   "source": [
    "print(len(rds_data['data'][0]))\n",
    "print(len(rds_data['data'][0]['data'][0]['data']))"
   ]
  },
  {
   "cell_type": "code",
   "execution_count": 38,
   "metadata": {},
   "outputs": [
    {
     "data": {
      "text/plain": [
       "['Compound.Name',\n",
       " 'Workflow',\n",
       " 'Associated.Target.Peak',\n",
       " 'MS.Order',\n",
       " 'Precursor.m.z',\n",
       " 'Product.m.z',\n",
       " 'm.z',\n",
       " 'Height.Threshold',\n",
       " 'Area.Threshold',\n",
       " 'Collision.Energy',\n",
       " 'Lens.Energy',\n",
       " 'Ramp',\n",
       " 'Window.Type',\n",
       " 'PeakPolarity',\n",
       " 'Adduct',\n",
       " 'Charge.State',\n",
       " 'Retention.Time.Window',\n",
       " 'Integration.Strategy',\n",
       " 'spectrum',\n",
       " 'mz',\n",
       " 'rt',\n",
       " 'intens']"
      ]
     },
     "execution_count": 38,
     "metadata": {},
     "output_type": "execute_result"
    }
   ],
   "source": [
    "rds_data['data'][1]['data'][500]['data'][0]['attributes']['names']['data']"
   ]
  },
  {
   "cell_type": "code",
   "execution_count": 35,
   "metadata": {},
   "outputs": [
    {
     "data": {
      "text/plain": [
       "22"
      ]
     },
     "execution_count": 35,
     "metadata": {},
     "output_type": "execute_result"
    }
   ],
   "source": [
    "len(rds_data['data'][1]['data'][500]['data'][0]['attributes']['names']['data'])"
   ]
  },
  {
   "cell_type": "code",
   "execution_count": 54,
   "metadata": {},
   "outputs": [],
   "source": [
    "discovered_peaks = []"
   ]
  },
  {
   "cell_type": "code",
   "execution_count": 55,
   "metadata": {},
   "outputs": [],
   "source": [
    "for i in range(0, 2322):\n",
    "    if len(rds_data['data'][1]['data'][i]['data']) > 0:\n",
    "        discovered_peaks.append(i)"
   ]
  },
  {
   "cell_type": "code",
   "execution_count": 57,
   "metadata": {},
   "outputs": [
    {
     "data": {
      "text/plain": [
       "49"
      ]
     },
     "execution_count": 57,
     "metadata": {},
     "output_type": "execute_result"
    }
   ],
   "source": [
    "len(discovered_peaks)"
   ]
  },
  {
   "cell_type": "markdown",
   "metadata": {},
   "source": [
    "This cell below gives us a list of the column names "
   ]
  },
  {
   "cell_type": "code",
   "execution_count": 63,
   "metadata": {},
   "outputs": [
    {
     "data": {
      "text/plain": [
       "['Compound.Name',\n",
       " 'Workflow',\n",
       " 'Associated.Target.Peak',\n",
       " 'MS.Order',\n",
       " 'Precursor.m.z',\n",
       " 'Product.m.z',\n",
       " 'm.z',\n",
       " 'Height.Threshold',\n",
       " 'Area.Threshold',\n",
       " 'Collision.Energy',\n",
       " 'Lens.Energy',\n",
       " 'Ramp',\n",
       " 'Window.Type',\n",
       " 'PeakPolarity',\n",
       " 'Adduct',\n",
       " 'Charge.State',\n",
       " 'Retention.Time.Window',\n",
       " 'Integration.Strategy',\n",
       " 'spectrum',\n",
       " 'mz',\n",
       " 'rt',\n",
       " 'intens']"
      ]
     },
     "execution_count": 63,
     "metadata": {},
     "output_type": "execute_result"
    }
   ],
   "source": [
    "rds_data['data'][1]['data'][500]['data'][0]['attributes']['names']['data']"
   ]
  },
  {
   "cell_type": "code",
   "execution_count": 81,
   "metadata": {},
   "outputs": [
    {
     "data": {
      "text/plain": [
       "{'data': ['']}"
      ]
     },
     "execution_count": 81,
     "metadata": {},
     "output_type": "execute_result"
    }
   ],
   "source": [
    "rds_data['data'][1]['data'][500]['data'][0]['data']"
   ]
  },
  {
   "cell_type": "code",
   "execution_count": 87,
   "metadata": {},
   "outputs": [
    {
     "data": {
      "text/plain": [
       "22"
      ]
     },
     "execution_count": 87,
     "metadata": {},
     "output_type": "execute_result"
    }
   ],
   "source": [
    "len(rds_data['data'][1]['data'][500]['data'][0]['data'])"
   ]
  },
  {
   "cell_type": "code",
   "execution_count": 100,
   "metadata": {},
   "outputs": [],
   "source": [
    "def make_compound_info(rds_data):\n",
    "    discovered_peaks = []\n",
    "    peaks_dfs = []\n",
    "    for i in range(0, 2322):\n",
    "        if len(rds_data['data'][1]['data'][i]['data']) > 0:\n",
    "            discovered_peaks.append(i)\n",
    "            # column names\n",
    "            col_names = rds_data['data'][1]['data'][i]['data'][0]['attributes']['names']['data']\n",
    "            df_data_list = []\n",
    "            for j in range(0, len(rds_data['data'][1]['data'][i]['data'][0]['data'])):\n",
    "                df_data_list.append(rds_data['data'][1]['data'][i]['data'][0]['data'][j]['data'][0])\n",
    "            tmp_dict = dict(zip(col_names, df_data_list))\n",
    "            print(tmp_dict)\n",
    "            tmp_df = pd.DataFrame(tmp_dict)\n",
    "            peaks_dfs.append(tmp_df)\n",
    "    \n",
    "    final_df = pd.concat(peaks_dfs)\n",
    "    return final_df\n",
    "        "
   ]
  },
  {
   "cell_type": "code",
   "execution_count": 101,
   "metadata": {},
   "outputs": [
    {
     "name": "stdout",
     "output_type": "stream",
     "text": [
      "{'Compound.Name': '1,3-dimethylbutylamine', 'Workflow': 'TargetPeak', 'Associated.Target.Peak': '', 'MS.Order': 'ms1', 'Precursor.m.z': '102.1277', 'Product.m.z': '0', 'm.z': 102.1277, 'Height.Threshold': 0, 'Area.Threshold': 0, 'Collision.Energy': 0, 'Lens.Energy': 0, 'Ramp': 0, 'Window.Type': 'eAbsolute', 'PeakPolarity': 'Positive', 'Adduct': 'M+H', 'Charge.State': 1, 'Retention.Time.Window': 1, 'Integration.Strategy': 'Individual', 'spectrum': 'CP0319.F1.S0397', 'mz': 102.12825012207, 'rt': 43.542000599999994, 'intens': 2067293.164062}\n"
     ]
    },
    {
     "ename": "ValueError",
     "evalue": "If using all scalar values, you must pass an index",
     "output_type": "error",
     "traceback": [
      "\u001b[0;31m---------------------------------------------------------------------------\u001b[0m",
      "\u001b[0;31mValueError\u001b[0m                                Traceback (most recent call last)",
      "Cell \u001b[0;32mIn[101], line 1\u001b[0m\n\u001b[0;32m----> 1\u001b[0m final_df \u001b[38;5;241m=\u001b[39m \u001b[43mmake_compound_info\u001b[49m\u001b[43m(\u001b[49m\u001b[43mrds_data\u001b[49m\u001b[43m)\u001b[49m\n",
      "Cell \u001b[0;32mIn[100], line 14\u001b[0m, in \u001b[0;36mmake_compound_info\u001b[0;34m(rds_data)\u001b[0m\n\u001b[1;32m     12\u001b[0m         tmp_dict \u001b[38;5;241m=\u001b[39m \u001b[38;5;28mdict\u001b[39m(\u001b[38;5;28mzip\u001b[39m(col_names, df_data_list))\n\u001b[1;32m     13\u001b[0m         \u001b[38;5;28mprint\u001b[39m(tmp_dict)\n\u001b[0;32m---> 14\u001b[0m         tmp_df \u001b[38;5;241m=\u001b[39m \u001b[43mpd\u001b[49m\u001b[38;5;241;43m.\u001b[39;49m\u001b[43mDataFrame\u001b[49m\u001b[43m(\u001b[49m\u001b[43mtmp_dict\u001b[49m\u001b[43m)\u001b[49m\n\u001b[1;32m     15\u001b[0m         peaks_dfs\u001b[38;5;241m.\u001b[39mappend(tmp_df)\n\u001b[1;32m     17\u001b[0m final_df \u001b[38;5;241m=\u001b[39m pd\u001b[38;5;241m.\u001b[39mconcat(peaks_dfs)\n",
      "File \u001b[0;32m~/miniconda3/envs/raddpt1/lib/python3.9/site-packages/pandas/core/frame.py:778\u001b[0m, in \u001b[0;36mDataFrame.__init__\u001b[0;34m(self, data, index, columns, dtype, copy)\u001b[0m\n\u001b[1;32m    772\u001b[0m     mgr \u001b[38;5;241m=\u001b[39m \u001b[38;5;28mself\u001b[39m\u001b[38;5;241m.\u001b[39m_init_mgr(\n\u001b[1;32m    773\u001b[0m         data, axes\u001b[38;5;241m=\u001b[39m{\u001b[38;5;124m\"\u001b[39m\u001b[38;5;124mindex\u001b[39m\u001b[38;5;124m\"\u001b[39m: index, \u001b[38;5;124m\"\u001b[39m\u001b[38;5;124mcolumns\u001b[39m\u001b[38;5;124m\"\u001b[39m: columns}, dtype\u001b[38;5;241m=\u001b[39mdtype, copy\u001b[38;5;241m=\u001b[39mcopy\n\u001b[1;32m    774\u001b[0m     )\n\u001b[1;32m    776\u001b[0m \u001b[38;5;28;01melif\u001b[39;00m \u001b[38;5;28misinstance\u001b[39m(data, \u001b[38;5;28mdict\u001b[39m):\n\u001b[1;32m    777\u001b[0m     \u001b[38;5;66;03m# GH#38939 de facto copy defaults to False only in non-dict cases\u001b[39;00m\n\u001b[0;32m--> 778\u001b[0m     mgr \u001b[38;5;241m=\u001b[39m \u001b[43mdict_to_mgr\u001b[49m\u001b[43m(\u001b[49m\u001b[43mdata\u001b[49m\u001b[43m,\u001b[49m\u001b[43m \u001b[49m\u001b[43mindex\u001b[49m\u001b[43m,\u001b[49m\u001b[43m \u001b[49m\u001b[43mcolumns\u001b[49m\u001b[43m,\u001b[49m\u001b[43m \u001b[49m\u001b[43mdtype\u001b[49m\u001b[38;5;241;43m=\u001b[39;49m\u001b[43mdtype\u001b[49m\u001b[43m,\u001b[49m\u001b[43m \u001b[49m\u001b[43mcopy\u001b[49m\u001b[38;5;241;43m=\u001b[39;49m\u001b[43mcopy\u001b[49m\u001b[43m,\u001b[49m\u001b[43m \u001b[49m\u001b[43mtyp\u001b[49m\u001b[38;5;241;43m=\u001b[39;49m\u001b[43mmanager\u001b[49m\u001b[43m)\u001b[49m\n\u001b[1;32m    779\u001b[0m \u001b[38;5;28;01melif\u001b[39;00m \u001b[38;5;28misinstance\u001b[39m(data, ma\u001b[38;5;241m.\u001b[39mMaskedArray):\n\u001b[1;32m    780\u001b[0m     \u001b[38;5;28;01mfrom\u001b[39;00m \u001b[38;5;21;01mnumpy\u001b[39;00m\u001b[38;5;21;01m.\u001b[39;00m\u001b[38;5;21;01mma\u001b[39;00m \u001b[38;5;28;01mimport\u001b[39;00m mrecords\n",
      "File \u001b[0;32m~/miniconda3/envs/raddpt1/lib/python3.9/site-packages/pandas/core/internals/construction.py:503\u001b[0m, in \u001b[0;36mdict_to_mgr\u001b[0;34m(data, index, columns, dtype, typ, copy)\u001b[0m\n\u001b[1;32m    499\u001b[0m     \u001b[38;5;28;01melse\u001b[39;00m:\n\u001b[1;32m    500\u001b[0m         \u001b[38;5;66;03m# dtype check to exclude e.g. range objects, scalars\u001b[39;00m\n\u001b[1;32m    501\u001b[0m         arrays \u001b[38;5;241m=\u001b[39m [x\u001b[38;5;241m.\u001b[39mcopy() \u001b[38;5;28;01mif\u001b[39;00m \u001b[38;5;28mhasattr\u001b[39m(x, \u001b[38;5;124m\"\u001b[39m\u001b[38;5;124mdtype\u001b[39m\u001b[38;5;124m\"\u001b[39m) \u001b[38;5;28;01melse\u001b[39;00m x \u001b[38;5;28;01mfor\u001b[39;00m x \u001b[38;5;129;01min\u001b[39;00m arrays]\n\u001b[0;32m--> 503\u001b[0m \u001b[38;5;28;01mreturn\u001b[39;00m \u001b[43marrays_to_mgr\u001b[49m\u001b[43m(\u001b[49m\u001b[43marrays\u001b[49m\u001b[43m,\u001b[49m\u001b[43m \u001b[49m\u001b[43mcolumns\u001b[49m\u001b[43m,\u001b[49m\u001b[43m \u001b[49m\u001b[43mindex\u001b[49m\u001b[43m,\u001b[49m\u001b[43m \u001b[49m\u001b[43mdtype\u001b[49m\u001b[38;5;241;43m=\u001b[39;49m\u001b[43mdtype\u001b[49m\u001b[43m,\u001b[49m\u001b[43m \u001b[49m\u001b[43mtyp\u001b[49m\u001b[38;5;241;43m=\u001b[39;49m\u001b[43mtyp\u001b[49m\u001b[43m,\u001b[49m\u001b[43m \u001b[49m\u001b[43mconsolidate\u001b[49m\u001b[38;5;241;43m=\u001b[39;49m\u001b[43mcopy\u001b[49m\u001b[43m)\u001b[49m\n",
      "File \u001b[0;32m~/miniconda3/envs/raddpt1/lib/python3.9/site-packages/pandas/core/internals/construction.py:114\u001b[0m, in \u001b[0;36marrays_to_mgr\u001b[0;34m(arrays, columns, index, dtype, verify_integrity, typ, consolidate)\u001b[0m\n\u001b[1;32m    111\u001b[0m \u001b[38;5;28;01mif\u001b[39;00m verify_integrity:\n\u001b[1;32m    112\u001b[0m     \u001b[38;5;66;03m# figure out the index, if necessary\u001b[39;00m\n\u001b[1;32m    113\u001b[0m     \u001b[38;5;28;01mif\u001b[39;00m index \u001b[38;5;129;01mis\u001b[39;00m \u001b[38;5;28;01mNone\u001b[39;00m:\n\u001b[0;32m--> 114\u001b[0m         index \u001b[38;5;241m=\u001b[39m \u001b[43m_extract_index\u001b[49m\u001b[43m(\u001b[49m\u001b[43marrays\u001b[49m\u001b[43m)\u001b[49m\n\u001b[1;32m    115\u001b[0m     \u001b[38;5;28;01melse\u001b[39;00m:\n\u001b[1;32m    116\u001b[0m         index \u001b[38;5;241m=\u001b[39m ensure_index(index)\n",
      "File \u001b[0;32m~/miniconda3/envs/raddpt1/lib/python3.9/site-packages/pandas/core/internals/construction.py:667\u001b[0m, in \u001b[0;36m_extract_index\u001b[0;34m(data)\u001b[0m\n\u001b[1;32m    664\u001b[0m         \u001b[38;5;28;01mraise\u001b[39;00m \u001b[38;5;167;01mValueError\u001b[39;00m(\u001b[38;5;124m\"\u001b[39m\u001b[38;5;124mPer-column arrays must each be 1-dimensional\u001b[39m\u001b[38;5;124m\"\u001b[39m)\n\u001b[1;32m    666\u001b[0m \u001b[38;5;28;01mif\u001b[39;00m \u001b[38;5;129;01mnot\u001b[39;00m indexes \u001b[38;5;129;01mand\u001b[39;00m \u001b[38;5;129;01mnot\u001b[39;00m raw_lengths:\n\u001b[0;32m--> 667\u001b[0m     \u001b[38;5;28;01mraise\u001b[39;00m \u001b[38;5;167;01mValueError\u001b[39;00m(\u001b[38;5;124m\"\u001b[39m\u001b[38;5;124mIf using all scalar values, you must pass an index\u001b[39m\u001b[38;5;124m\"\u001b[39m)\n\u001b[1;32m    669\u001b[0m \u001b[38;5;28;01mif\u001b[39;00m have_series:\n\u001b[1;32m    670\u001b[0m     index \u001b[38;5;241m=\u001b[39m union_indexes(indexes)\n",
      "\u001b[0;31mValueError\u001b[0m: If using all scalar values, you must pass an index"
     ]
    }
   ],
   "source": [
    "final_df = make_compound_info(rds_data)"
   ]
  },
  {
   "cell_type": "code",
   "execution_count": 90,
   "metadata": {},
   "outputs": [
    {
     "data": {
      "text/html": [
       "<div>\n",
       "<style scoped>\n",
       "    .dataframe tbody tr th:only-of-type {\n",
       "        vertical-align: middle;\n",
       "    }\n",
       "\n",
       "    .dataframe tbody tr th {\n",
       "        vertical-align: top;\n",
       "    }\n",
       "\n",
       "    .dataframe thead th {\n",
       "        text-align: right;\n",
       "    }\n",
       "</style>\n",
       "<table border=\"1\" class=\"dataframe\">\n",
       "  <thead>\n",
       "    <tr style=\"text-align: right;\">\n",
       "      <th></th>\n",
       "      <th>Compound.Name</th>\n",
       "      <th>Workflow</th>\n",
       "      <th>Associated.Target.Peak</th>\n",
       "      <th>MS.Order</th>\n",
       "      <th>Precursor.m.z</th>\n",
       "      <th>Product.m.z</th>\n",
       "      <th>m.z</th>\n",
       "      <th>Height.Threshold</th>\n",
       "      <th>Area.Threshold</th>\n",
       "      <th>Collision.Energy</th>\n",
       "      <th>...</th>\n",
       "      <th>Window.Type</th>\n",
       "      <th>PeakPolarity</th>\n",
       "      <th>Adduct</th>\n",
       "      <th>Charge.State</th>\n",
       "      <th>Retention.Time.Window</th>\n",
       "      <th>Integration.Strategy</th>\n",
       "      <th>spectrum</th>\n",
       "      <th>mz</th>\n",
       "      <th>rt</th>\n",
       "      <th>intens</th>\n",
       "    </tr>\n",
       "  </thead>\n",
       "  <tbody>\n",
       "    <tr>\n",
       "      <th>0</th>\n",
       "      <td>NaN</td>\n",
       "      <td>NaN</td>\n",
       "      <td>NaN</td>\n",
       "      <td>NaN</td>\n",
       "      <td>NaN</td>\n",
       "      <td>NaN</td>\n",
       "      <td>NaN</td>\n",
       "      <td>NaN</td>\n",
       "      <td>NaN</td>\n",
       "      <td>NaN</td>\n",
       "      <td>...</td>\n",
       "      <td>NaN</td>\n",
       "      <td>NaN</td>\n",
       "      <td>NaN</td>\n",
       "      <td>NaN</td>\n",
       "      <td>NaN</td>\n",
       "      <td>NaN</td>\n",
       "      <td>NaN</td>\n",
       "      <td>NaN</td>\n",
       "      <td>NaN</td>\n",
       "      <td>NaN</td>\n",
       "    </tr>\n",
       "    <tr>\n",
       "      <th>1</th>\n",
       "      <td>NaN</td>\n",
       "      <td>NaN</td>\n",
       "      <td>NaN</td>\n",
       "      <td>NaN</td>\n",
       "      <td>NaN</td>\n",
       "      <td>NaN</td>\n",
       "      <td>NaN</td>\n",
       "      <td>NaN</td>\n",
       "      <td>NaN</td>\n",
       "      <td>NaN</td>\n",
       "      <td>...</td>\n",
       "      <td>NaN</td>\n",
       "      <td>NaN</td>\n",
       "      <td>NaN</td>\n",
       "      <td>NaN</td>\n",
       "      <td>NaN</td>\n",
       "      <td>NaN</td>\n",
       "      <td>NaN</td>\n",
       "      <td>NaN</td>\n",
       "      <td>NaN</td>\n",
       "      <td>NaN</td>\n",
       "    </tr>\n",
       "    <tr>\n",
       "      <th>2</th>\n",
       "      <td>NaN</td>\n",
       "      <td>NaN</td>\n",
       "      <td>NaN</td>\n",
       "      <td>NaN</td>\n",
       "      <td>NaN</td>\n",
       "      <td>NaN</td>\n",
       "      <td>NaN</td>\n",
       "      <td>NaN</td>\n",
       "      <td>NaN</td>\n",
       "      <td>NaN</td>\n",
       "      <td>...</td>\n",
       "      <td>NaN</td>\n",
       "      <td>NaN</td>\n",
       "      <td>NaN</td>\n",
       "      <td>NaN</td>\n",
       "      <td>NaN</td>\n",
       "      <td>NaN</td>\n",
       "      <td>NaN</td>\n",
       "      <td>NaN</td>\n",
       "      <td>NaN</td>\n",
       "      <td>NaN</td>\n",
       "    </tr>\n",
       "    <tr>\n",
       "      <th>3</th>\n",
       "      <td>NaN</td>\n",
       "      <td>NaN</td>\n",
       "      <td>NaN</td>\n",
       "      <td>NaN</td>\n",
       "      <td>NaN</td>\n",
       "      <td>NaN</td>\n",
       "      <td>NaN</td>\n",
       "      <td>NaN</td>\n",
       "      <td>NaN</td>\n",
       "      <td>NaN</td>\n",
       "      <td>...</td>\n",
       "      <td>NaN</td>\n",
       "      <td>NaN</td>\n",
       "      <td>NaN</td>\n",
       "      <td>NaN</td>\n",
       "      <td>NaN</td>\n",
       "      <td>NaN</td>\n",
       "      <td>NaN</td>\n",
       "      <td>NaN</td>\n",
       "      <td>NaN</td>\n",
       "      <td>NaN</td>\n",
       "    </tr>\n",
       "    <tr>\n",
       "      <th>4</th>\n",
       "      <td>NaN</td>\n",
       "      <td>NaN</td>\n",
       "      <td>NaN</td>\n",
       "      <td>NaN</td>\n",
       "      <td>NaN</td>\n",
       "      <td>NaN</td>\n",
       "      <td>NaN</td>\n",
       "      <td>NaN</td>\n",
       "      <td>NaN</td>\n",
       "      <td>NaN</td>\n",
       "      <td>...</td>\n",
       "      <td>NaN</td>\n",
       "      <td>NaN</td>\n",
       "      <td>NaN</td>\n",
       "      <td>NaN</td>\n",
       "      <td>NaN</td>\n",
       "      <td>NaN</td>\n",
       "      <td>NaN</td>\n",
       "      <td>NaN</td>\n",
       "      <td>NaN</td>\n",
       "      <td>NaN</td>\n",
       "    </tr>\n",
       "  </tbody>\n",
       "</table>\n",
       "<p>5 rows × 22 columns</p>\n",
       "</div>"
      ],
      "text/plain": [
       "   Compound.Name  Workflow  Associated.Target.Peak  MS.Order  Precursor.m.z  \\\n",
       "0            NaN       NaN                     NaN       NaN            NaN   \n",
       "1            NaN       NaN                     NaN       NaN            NaN   \n",
       "2            NaN       NaN                     NaN       NaN            NaN   \n",
       "3            NaN       NaN                     NaN       NaN            NaN   \n",
       "4            NaN       NaN                     NaN       NaN            NaN   \n",
       "\n",
       "   Product.m.z  m.z  Height.Threshold  Area.Threshold  Collision.Energy  ...  \\\n",
       "0          NaN  NaN               NaN             NaN               NaN  ...   \n",
       "1          NaN  NaN               NaN             NaN               NaN  ...   \n",
       "2          NaN  NaN               NaN             NaN               NaN  ...   \n",
       "3          NaN  NaN               NaN             NaN               NaN  ...   \n",
       "4          NaN  NaN               NaN             NaN               NaN  ...   \n",
       "\n",
       "   Window.Type  PeakPolarity  Adduct  Charge.State  Retention.Time.Window  \\\n",
       "0          NaN           NaN     NaN           NaN                    NaN   \n",
       "1          NaN           NaN     NaN           NaN                    NaN   \n",
       "2          NaN           NaN     NaN           NaN                    NaN   \n",
       "3          NaN           NaN     NaN           NaN                    NaN   \n",
       "4          NaN           NaN     NaN           NaN                    NaN   \n",
       "\n",
       "   Integration.Strategy  spectrum  mz  rt  intens  \n",
       "0                   NaN       NaN NaN NaN     NaN  \n",
       "1                   NaN       NaN NaN NaN     NaN  \n",
       "2                   NaN       NaN NaN NaN     NaN  \n",
       "3                   NaN       NaN NaN NaN     NaN  \n",
       "4                   NaN       NaN NaN NaN     NaN  \n",
       "\n",
       "[5 rows x 22 columns]"
      ]
     },
     "execution_count": 90,
     "metadata": {},
     "output_type": "execute_result"
    }
   ],
   "source": [
    "final_df.head()"
   ]
  },
  {
   "cell_type": "code",
   "execution_count": 91,
   "metadata": {},
   "outputs": [
    {
     "name": "stdout",
     "output_type": "stream",
     "text": [
      "<class 'pandas.core.frame.DataFrame'>\n",
      "Index: 1078 entries, 0 to 21\n",
      "Data columns (total 22 columns):\n",
      " #   Column                  Non-Null Count  Dtype  \n",
      "---  ------                  --------------  -----  \n",
      " 0   Compound.Name           0 non-null      float64\n",
      " 1   Workflow                0 non-null      float64\n",
      " 2   Associated.Target.Peak  0 non-null      float64\n",
      " 3   MS.Order                0 non-null      float64\n",
      " 4   Precursor.m.z           0 non-null      float64\n",
      " 5   Product.m.z             0 non-null      float64\n",
      " 6   m.z                     0 non-null      float64\n",
      " 7   Height.Threshold        0 non-null      float64\n",
      " 8   Area.Threshold          0 non-null      float64\n",
      " 9   Collision.Energy        0 non-null      float64\n",
      " 10  Lens.Energy             0 non-null      float64\n",
      " 11  Ramp                    0 non-null      float64\n",
      " 12  Window.Type             0 non-null      float64\n",
      " 13  PeakPolarity            0 non-null      float64\n",
      " 14  Adduct                  0 non-null      float64\n",
      " 15  Charge.State            0 non-null      float64\n",
      " 16  Retention.Time.Window   0 non-null      float64\n",
      " 17  Integration.Strategy    0 non-null      float64\n",
      " 18  spectrum                0 non-null      float64\n",
      " 19  mz                      0 non-null      float64\n",
      " 20  rt                      0 non-null      float64\n",
      " 21  intens                  0 non-null      float64\n",
      "dtypes: float64(22)\n",
      "memory usage: 193.7 KB\n"
     ]
    }
   ],
   "source": [
    "final_df.info()"
   ]
  },
  {
   "cell_type": "code",
   "execution_count": null,
   "metadata": {},
   "outputs": [],
   "source": []
  }
 ],
 "metadata": {
  "kernelspec": {
   "display_name": "raddpt1",
   "language": "python",
   "name": "python3"
  },
  "language_info": {
   "codemirror_mode": {
    "name": "ipython",
    "version": 3
   },
   "file_extension": ".py",
   "mimetype": "text/x-python",
   "name": "python",
   "nbconvert_exporter": "python",
   "pygments_lexer": "ipython3",
   "version": "3.9.19"
  }
 },
 "nbformat": 4,
 "nbformat_minor": 2
}
