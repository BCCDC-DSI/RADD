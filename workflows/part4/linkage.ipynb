{
 "cells": [
  {
   "cell_type": "code",
   "execution_count": 1,
   "metadata": {},
   "outputs": [],
   "source": [
    "import pandas as pd\n",
    "import numpy as np"
   ]
  },
  {
   "cell_type": "markdown",
   "metadata": {},
   "source": [
    "# Load the data"
   ]
  },
  {
   "cell_type": "code",
   "execution_count": 2,
   "metadata": {},
   "outputs": [],
   "source": [
    "file_list = pd.read_csv('Data/file_list.csv')"
   ]
  },
  {
   "cell_type": "code",
   "execution_count": 3,
   "metadata": {},
   "outputs": [
    {
     "data": {
      "text/html": [
       "<div>\n",
       "<style scoped>\n",
       "    .dataframe tbody tr th:only-of-type {\n",
       "        vertical-align: middle;\n",
       "    }\n",
       "\n",
       "    .dataframe tbody tr th {\n",
       "        vertical-align: top;\n",
       "    }\n",
       "\n",
       "    .dataframe thead th {\n",
       "        text-align: right;\n",
       "    }\n",
       "</style>\n",
       "<table border=\"1\" class=\"dataframe\">\n",
       "  <thead>\n",
       "    <tr style=\"text-align: right;\">\n",
       "      <th></th>\n",
       "      <th>file_name</th>\n",
       "      <th>Case_PTC_No</th>\n",
       "      <th>death_date</th>\n",
       "    </tr>\n",
       "  </thead>\n",
       "  <tbody>\n",
       "    <tr>\n",
       "      <th>0</th>\n",
       "      <td>2020-1519BR01.mzML</td>\n",
       "      <td>20201519</td>\n",
       "      <td>6/26/2020</td>\n",
       "    </tr>\n",
       "    <tr>\n",
       "      <th>1</th>\n",
       "      <td>2020-1520BG01.mzML</td>\n",
       "      <td>20201520</td>\n",
       "      <td>6/27/2020</td>\n",
       "    </tr>\n",
       "    <tr>\n",
       "      <th>2</th>\n",
       "      <td>2020-1521BG01.mzML</td>\n",
       "      <td>20201521</td>\n",
       "      <td>6/25/2020</td>\n",
       "    </tr>\n",
       "    <tr>\n",
       "      <th>3</th>\n",
       "      <td>2020-1522BG01.mzML</td>\n",
       "      <td>20201522</td>\n",
       "      <td>6/25/2020</td>\n",
       "    </tr>\n",
       "    <tr>\n",
       "      <th>4</th>\n",
       "      <td>2020-1523BG01.mzML</td>\n",
       "      <td>20201523</td>\n",
       "      <td>6/30/2020</td>\n",
       "    </tr>\n",
       "  </tbody>\n",
       "</table>\n",
       "</div>"
      ],
      "text/plain": [
       "            file_name  Case_PTC_No death_date\n",
       "0  2020-1519BR01.mzML     20201519  6/26/2020\n",
       "1  2020-1520BG01.mzML     20201520  6/27/2020\n",
       "2  2020-1521BG01.mzML     20201521  6/25/2020\n",
       "3  2020-1522BG01.mzML     20201522  6/25/2020\n",
       "4  2020-1523BG01.mzML     20201523  6/30/2020"
      ]
     },
     "execution_count": 3,
     "metadata": {},
     "output_type": "execute_result"
    }
   ],
   "source": [
    "file_list.head()"
   ]
  },
  {
   "cell_type": "code",
   "execution_count": 4,
   "metadata": {},
   "outputs": [],
   "source": [
    "tbltest = pd.read_excel('Data/tbltest.xlsx')"
   ]
  },
  {
   "cell_type": "code",
   "execution_count": 5,
   "metadata": {},
   "outputs": [
    {
     "data": {
      "text/html": [
       "<div>\n",
       "<style scoped>\n",
       "    .dataframe tbody tr th:only-of-type {\n",
       "        vertical-align: middle;\n",
       "    }\n",
       "\n",
       "    .dataframe tbody tr th {\n",
       "        vertical-align: top;\n",
       "    }\n",
       "\n",
       "    .dataframe thead th {\n",
       "        text-align: right;\n",
       "    }\n",
       "</style>\n",
       "<table border=\"1\" class=\"dataframe\">\n",
       "  <thead>\n",
       "    <tr style=\"text-align: right;\">\n",
       "      <th></th>\n",
       "      <th>Case_PTC_No</th>\n",
       "      <th>Drug_Nm</th>\n",
       "      <th>results.flag</th>\n",
       "    </tr>\n",
       "  </thead>\n",
       "  <tbody>\n",
       "    <tr>\n",
       "      <th>0</th>\n",
       "      <td>20200575</td>\n",
       "      <td>BENZOYLECGONINE</td>\n",
       "      <td>detected</td>\n",
       "    </tr>\n",
       "    <tr>\n",
       "      <th>1</th>\n",
       "      <td>20181735</td>\n",
       "      <td>ACETAMINOPHEN</td>\n",
       "      <td>detected</td>\n",
       "    </tr>\n",
       "    <tr>\n",
       "      <th>2</th>\n",
       "      <td>20182154</td>\n",
       "      <td>FENTANYL</td>\n",
       "      <td>detected</td>\n",
       "    </tr>\n",
       "    <tr>\n",
       "      <th>3</th>\n",
       "      <td>20182062</td>\n",
       "      <td>NORFENTANYL</td>\n",
       "      <td>detected</td>\n",
       "    </tr>\n",
       "    <tr>\n",
       "      <th>4</th>\n",
       "      <td>20181851</td>\n",
       "      <td>BENZOYLECGONINE</td>\n",
       "      <td>detected</td>\n",
       "    </tr>\n",
       "  </tbody>\n",
       "</table>\n",
       "</div>"
      ],
      "text/plain": [
       "   Case_PTC_No          Drug_Nm results.flag\n",
       "0     20200575  BENZOYLECGONINE     detected\n",
       "1     20181735    ACETAMINOPHEN     detected\n",
       "2     20182154         FENTANYL     detected\n",
       "3     20182062      NORFENTANYL     detected\n",
       "4     20181851  BENZOYLECGONINE     detected"
      ]
     },
     "execution_count": 5,
     "metadata": {},
     "output_type": "execute_result"
    }
   ],
   "source": [
    "tbltest.head()"
   ]
  },
  {
   "cell_type": "code",
   "execution_count": 6,
   "metadata": {},
   "outputs": [
    {
     "data": {
      "text/plain": [
       "(6834, 3)"
      ]
     },
     "execution_count": 6,
     "metadata": {},
     "output_type": "execute_result"
    }
   ],
   "source": [
    "file_list.shape"
   ]
  },
  {
   "cell_type": "code",
   "execution_count": 29,
   "metadata": {},
   "outputs": [
    {
     "data": {
      "text/plain": [
       "results.flag\n",
       "detected    109735\n",
       "Name: count, dtype: int64"
      ]
     },
     "execution_count": 29,
     "metadata": {},
     "output_type": "execute_result"
    }
   ],
   "source": [
    "tbltest['results.flag'].value_counts(dropna=False)"
   ]
  },
  {
   "cell_type": "code",
   "execution_count": 30,
   "metadata": {},
   "outputs": [
    {
     "data": {
      "text/plain": [
       "Case_PTC_No     0\n",
       "Drug_Nm         0\n",
       "results.flag    0\n",
       "dtype: int64"
      ]
     },
     "execution_count": 30,
     "metadata": {},
     "output_type": "execute_result"
    }
   ],
   "source": [
    "tbltest.isnull().sum()"
   ]
  },
  {
   "cell_type": "code",
   "execution_count": 8,
   "metadata": {},
   "outputs": [
    {
     "data": {
      "text/plain": [
       "(109735, 3)"
      ]
     },
     "execution_count": 8,
     "metadata": {},
     "output_type": "execute_result"
    }
   ],
   "source": [
    "tbltest.shape"
   ]
  },
  {
   "cell_type": "code",
   "execution_count": 9,
   "metadata": {},
   "outputs": [],
   "source": [
    "merged_df = pd.merge(file_list, tbltest, on='Case_PTC_No')"
   ]
  },
  {
   "cell_type": "code",
   "execution_count": 10,
   "metadata": {},
   "outputs": [
    {
     "data": {
      "text/html": [
       "<div>\n",
       "<style scoped>\n",
       "    .dataframe tbody tr th:only-of-type {\n",
       "        vertical-align: middle;\n",
       "    }\n",
       "\n",
       "    .dataframe tbody tr th {\n",
       "        vertical-align: top;\n",
       "    }\n",
       "\n",
       "    .dataframe thead th {\n",
       "        text-align: right;\n",
       "    }\n",
       "</style>\n",
       "<table border=\"1\" class=\"dataframe\">\n",
       "  <thead>\n",
       "    <tr style=\"text-align: right;\">\n",
       "      <th></th>\n",
       "      <th>file_name</th>\n",
       "      <th>Case_PTC_No</th>\n",
       "      <th>death_date</th>\n",
       "      <th>Drug_Nm</th>\n",
       "      <th>results.flag</th>\n",
       "    </tr>\n",
       "  </thead>\n",
       "  <tbody>\n",
       "    <tr>\n",
       "      <th>0</th>\n",
       "      <td>2020-1519BR01.mzML</td>\n",
       "      <td>20201519</td>\n",
       "      <td>6/26/2020</td>\n",
       "      <td>FENTANYL</td>\n",
       "      <td>detected</td>\n",
       "    </tr>\n",
       "    <tr>\n",
       "      <th>1</th>\n",
       "      <td>2020-1519BR01.mzML</td>\n",
       "      <td>20201519</td>\n",
       "      <td>6/26/2020</td>\n",
       "      <td>NORFENTANYL</td>\n",
       "      <td>detected</td>\n",
       "    </tr>\n",
       "    <tr>\n",
       "      <th>2</th>\n",
       "      <td>2020-1519BR01.mzML</td>\n",
       "      <td>20201519</td>\n",
       "      <td>6/26/2020</td>\n",
       "      <td>ACETYLFENTANYL</td>\n",
       "      <td>detected</td>\n",
       "    </tr>\n",
       "    <tr>\n",
       "      <th>3</th>\n",
       "      <td>2020-1519BR01.mzML</td>\n",
       "      <td>20201519</td>\n",
       "      <td>6/26/2020</td>\n",
       "      <td>METHAMPHETAMINE</td>\n",
       "      <td>detected</td>\n",
       "    </tr>\n",
       "    <tr>\n",
       "      <th>4</th>\n",
       "      <td>2020-1519BR01.mzML</td>\n",
       "      <td>20201519</td>\n",
       "      <td>6/26/2020</td>\n",
       "      <td>AMPHETAMINE</td>\n",
       "      <td>detected</td>\n",
       "    </tr>\n",
       "  </tbody>\n",
       "</table>\n",
       "</div>"
      ],
      "text/plain": [
       "            file_name  Case_PTC_No death_date          Drug_Nm results.flag\n",
       "0  2020-1519BR01.mzML     20201519  6/26/2020         FENTANYL     detected\n",
       "1  2020-1519BR01.mzML     20201519  6/26/2020      NORFENTANYL     detected\n",
       "2  2020-1519BR01.mzML     20201519  6/26/2020   ACETYLFENTANYL     detected\n",
       "3  2020-1519BR01.mzML     20201519  6/26/2020  METHAMPHETAMINE     detected\n",
       "4  2020-1519BR01.mzML     20201519  6/26/2020      AMPHETAMINE     detected"
      ]
     },
     "execution_count": 10,
     "metadata": {},
     "output_type": "execute_result"
    }
   ],
   "source": [
    "merged_df.head()"
   ]
  },
  {
   "cell_type": "code",
   "execution_count": 11,
   "metadata": {},
   "outputs": [
    {
     "data": {
      "text/plain": [
       "(45306, 5)"
      ]
     },
     "execution_count": 11,
     "metadata": {},
     "output_type": "execute_result"
    }
   ],
   "source": [
    "merged_df.shape"
   ]
  },
  {
   "cell_type": "code",
   "execution_count": 12,
   "metadata": {},
   "outputs": [
    {
     "data": {
      "text/plain": [
       "results.flag\n",
       "detected    45306\n",
       "Name: count, dtype: int64"
      ]
     },
     "execution_count": 12,
     "metadata": {},
     "output_type": "execute_result"
    }
   ],
   "source": [
    "merged_df['results.flag'].value_counts()"
   ]
  },
  {
   "cell_type": "code",
   "execution_count": 13,
   "metadata": {},
   "outputs": [
    {
     "data": {
      "text/plain": [
       "Drug_Nm\n",
       "FENTANYL                 5482\n",
       "NORFENTANYL              4468\n",
       "METHAMPHETAMINE          3203\n",
       "BENZOYLECGONINE          2830\n",
       "AMPHETAMINE              2747\n",
       "                         ... \n",
       "3-FLUOROPHENMETRAZINE       1\n",
       "SAMPLES DISCARDED           1\n",
       "BUSPIRONE                   1\n",
       "CARISOPRODOL                1\n",
       "PARALDEHYDE                 1\n",
       "Name: count, Length: 234, dtype: int64"
      ]
     },
     "execution_count": 13,
     "metadata": {},
     "output_type": "execute_result"
    }
   ],
   "source": [
    "merged_df['Drug_Nm'].value_counts()"
   ]
  },
  {
   "cell_type": "code",
   "execution_count": 34,
   "metadata": {},
   "outputs": [
    {
     "data": {
      "text/plain": [
       "file_name\n",
       "2021-0997BG01    25\n",
       "2024-0644BG01    24\n",
       "2021-0331BG01    24\n",
       "2021-3677BG01    23\n",
       "2020-2934BG01    23\n",
       "                 ..\n",
       "2021-3435BG01     1\n",
       "2023-1398BG01     1\n",
       "2022-2476BG01     1\n",
       "2022-0922         1\n",
       "2021-2469BG01     1\n",
       "Name: count, Length: 6627, dtype: int64"
      ]
     },
     "execution_count": 34,
     "metadata": {},
     "output_type": "execute_result"
    }
   ],
   "source": [
    "merged_df['file_name'].value_counts()"
   ]
  },
  {
   "cell_type": "code",
   "execution_count": 14,
   "metadata": {},
   "outputs": [],
   "source": [
    "merged_df.to_csv('Data/merged_detected.csv', index=False)"
   ]
  },
  {
   "cell_type": "code",
   "execution_count": null,
   "metadata": {},
   "outputs": [],
   "source": []
  },
  {
   "cell_type": "code",
   "execution_count": 15,
   "metadata": {},
   "outputs": [],
   "source": [
    "import pandas as pd\n",
    "import numpy as np\n",
    "import matplotlib.pyplot as plt\n",
    "import seaborn as sns\n",
    "import os\n",
    "\n",
    "# Define directories\n",
    "dates_dir = '/arc/project/st-ashapi01-1/RADD'\n",
    "rds_dir = '/scratch/st-ashapi01-1/rds_files/data_2024nps-db'\n",
    "db_dir = '/arc/project/st-ashapi01-1/RADD_libraries'"
   ]
  },
  {
   "cell_type": "code",
   "execution_count": 16,
   "metadata": {},
   "outputs": [
    {
     "name": "stderr",
     "output_type": "stream",
     "text": [
      "/tmp/ipykernel_46064/2326074700.py:4: DtypeWarning: Columns (2) have mixed types. Specify dtype option on import or set low_memory=False.\n",
      "  ms2 = pd.read_csv(os.path.join(rds_dir, 'ms2/ms2.out'))\n"
     ]
    }
   ],
   "source": [
    "ms1 = pd.read_csv(os.path.join(rds_dir, 'ms1/ms1.out'))\n",
    "# Fragments\n",
    "ms1 = ms1.iloc[:34618]\n",
    "ms2 = pd.read_csv(os.path.join(rds_dir, 'ms2/ms2.out'))\n",
    "ms2 = ms2.iloc[:561019]"
   ]
  },
  {
   "cell_type": "code",
   "execution_count": 17,
   "metadata": {},
   "outputs": [],
   "source": [
    "ms1.drop(columns=['spectrum'], inplace=True)"
   ]
  },
  {
   "cell_type": "code",
   "execution_count": 18,
   "metadata": {},
   "outputs": [
    {
     "data": {
      "text/plain": [
       "['filename', 'compound_name', 'spectrum', 'm.z', 'mz', 'i']"
      ]
     },
     "execution_count": 18,
     "metadata": {},
     "output_type": "execute_result"
    }
   ],
   "source": [
    "ms2.columns.to_list()"
   ]
  },
  {
   "cell_type": "code",
   "execution_count": 19,
   "metadata": {},
   "outputs": [],
   "source": [
    "# Read databases\n",
    "db1 = pd.read_csv(os.path.join(db_dir, 'NPS_DB-240705.csv'), index_col=False, skiprows=5)\n",
    "# Remove columns with a single unique value\n",
    "keep = db1.apply(lambda col: col.nunique() > 1)\n",
    "db1 = db1.loc[:, keep]\n",
    "\n",
    "databases = {\"NPS\": db1}\n",
    "\n",
    "# Function to calculate PPM range\n",
    "def calc_ppm_range(theor_mass, err_ppm=10):\n",
    "    theor_mass = float(theor_mass)  # Ensure theor_mass is float\n",
    "    lower_bound = (-err_ppm / 1e6 * theor_mass) + theor_mass\n",
    "    upper_bound = (err_ppm / 1e6 * theor_mass) + theor_mass\n",
    "    return lower_bound, upper_bound\n",
    "\n",
    "# Calculate evidence for each peak\n",
    "def calculate_matches(row):\n",
    "    lower_bound, upper_bound = calc_ppm_range(row['Product m/z'], err_ppm=20)\n",
    "    return lower_bound <= row['mz'] <= upper_bound\n",
    "\n",
    "# Filter fragments and drop duplicates\n",
    "fragments = db1[db1['Workflow'] == 'Fragment'].drop_duplicates(subset=['Compound Name', 'Product m/z'])\n",
    "\n",
    "# Calculate evidence for each peak\n",
    "evidence_per_fragment = ms2.merge(fragments, left_on='compound_name', right_on='Compound Name', how='left')\n",
    "evidence_per_fragment['match'] = evidence_per_fragment.apply(calculate_matches, axis=1)\n",
    "\n",
    "# Ensure 'm/z' is included for grouping\n",
    "evidence_per_fragment = evidence_per_fragment[['filename', 'compound_name', 'spectrum', 'mz', 'Product m/z', 'Retention Time', 'match']]\n",
    "evidence_per_fragment_original = evidence_per_fragment.copy()\n",
    "# Group by file, compound, spectrum, and m/z\n",
    "evidence_per_fragment = (\n",
    "    evidence_per_fragment\n",
    "    .groupby(['filename', 'compound_name', 'spectrum', 'mz'])\n",
    "    .agg(\n",
    "        match=('match', 'sum'),\n",
    "        product_mz=('Product m/z', 'first'),\n",
    "        db_rt=('Retention Time', 'first')  # or use lambda x: x.iloc[0]\n",
    "    )\n",
    "    .reset_index()\n",
    ")\n",
    "\n",
    "evidence_per_fragment = evidence_per_fragment.reset_index()\n",
    "# Aggregate evidence per parent\n",
    "evidence_per_parent = (evidence_per_fragment\n",
    "                       .groupby(['filename', 'compound_name', 'spectrum'])\n",
    "                       .agg(matches=('match', 'sum'),\n",
    "                       db_rt=('db_rt', 'first'))\n",
    "                       ).reset_index()\n",
    "\n",
    "# Calculate total fragments\n",
    "total_fragments = fragments.groupby('Compound Name').size().reset_index(name='total_fragments')\n",
    "\n",
    "# Merge total_fragments into evidence_per_parent\n",
    "evidence_per_parent = evidence_per_parent.merge(total_fragments, left_on='compound_name', right_on='Compound Name', how='left')\n",
    "\n",
    "# Merge with ms1 (including m/z)\n",
    "ms1 = ms1.merge(evidence_per_parent, on=[\"filename\", \"compound_name\"], how=\"left\")\n",
    "\n",
    "# Modify this back to m.z and mz\n",
    "ms1[\"mz\"] = ms1[\"mz\"].astype(float)\n",
    "ms1[\"m.z\"] = ms1[\"m.z\"].astype(float)\n",
    "# Tag ppm error\n",
    "# mass that was found in the sample compared to precursor ion in the database\n",
    "\n",
    "# Modify this back to m.z and mz\n",
    "ms1[\"ppm_err\"] = 1e6 * (ms1[\"mz\"] - ms1[\"m.z\"]) / ms1[\"m.z\"]"
   ]
  },
  {
   "cell_type": "code",
   "execution_count": 20,
   "metadata": {},
   "outputs": [
    {
     "name": "stderr",
     "output_type": "stream",
     "text": [
      "/tmp/ipykernel_46064/1646055864.py:6: SettingWithCopyWarning: \n",
      "A value is trying to be set on a copy of a slice from a DataFrame.\n",
      "Try using .loc[row_indexer,col_indexer] = value instead\n",
      "\n",
      "See the caveats in the documentation: https://pandas.pydata.org/pandas-docs/stable/user_guide/indexing.html#returning-a-view-versus-a-copy\n",
      "  best2.loc[:, \"prop_reference_ions\"] = best2[\"matches\"] / best2[\"total_fragments\"]\n"
     ]
    }
   ],
   "source": [
    "# Keep only best evidence per file\n",
    "best = ms1.sort_values(by=[\"matches\"], ascending=False).groupby([\"filename\", \"compound_name\"]).head(1).reset_index(drop=True)\n",
    "best2 = best[best[\"matches\"] >= 2]\n",
    "\n",
    "# Calculate proportion of reference product ions detected\n",
    "best2.loc[:, \"prop_reference_ions\"] = best2[\"matches\"] / best2[\"total_fragments\"]"
   ]
  },
  {
   "cell_type": "code",
   "execution_count": 21,
   "metadata": {},
   "outputs": [
    {
     "data": {
      "text/html": [
       "<div>\n",
       "<style scoped>\n",
       "    .dataframe tbody tr th:only-of-type {\n",
       "        vertical-align: middle;\n",
       "    }\n",
       "\n",
       "    .dataframe tbody tr th {\n",
       "        vertical-align: top;\n",
       "    }\n",
       "\n",
       "    .dataframe thead th {\n",
       "        text-align: right;\n",
       "    }\n",
       "</style>\n",
       "<table border=\"1\" class=\"dataframe\">\n",
       "  <thead>\n",
       "    <tr style=\"text-align: right;\">\n",
       "      <th></th>\n",
       "      <th>filename</th>\n",
       "      <th>compound_name</th>\n",
       "      <th>Retention.Time</th>\n",
       "      <th>Retension.TimeWindow</th>\n",
       "      <th>m.z</th>\n",
       "      <th>mz</th>\n",
       "      <th>rt</th>\n",
       "      <th>intens</th>\n",
       "      <th>spectrum</th>\n",
       "      <th>matches</th>\n",
       "      <th>db_rt</th>\n",
       "      <th>Compound Name</th>\n",
       "      <th>total_fragments</th>\n",
       "      <th>ppm_err</th>\n",
       "      <th>prop_reference_ions</th>\n",
       "    </tr>\n",
       "  </thead>\n",
       "  <tbody>\n",
       "    <tr>\n",
       "      <th>0</th>\n",
       "      <td>2023-2213BG01</td>\n",
       "      <td>Eutylone</td>\n",
       "      <td>NaN</td>\n",
       "      <td>30</td>\n",
       "      <td>236.12812</td>\n",
       "      <td>236.127695</td>\n",
       "      <td>245.673444</td>\n",
       "      <td>3.915749e+06</td>\n",
       "      <td>CP2685.F1.S2959</td>\n",
       "      <td>7</td>\n",
       "      <td>NaN</td>\n",
       "      <td>Eutylone</td>\n",
       "      <td>9</td>\n",
       "      <td>-1.801366</td>\n",
       "      <td>0.777778</td>\n",
       "    </tr>\n",
       "    <tr>\n",
       "      <th>1</th>\n",
       "      <td>2024-2266BG01</td>\n",
       "      <td>4'-Cl-deschloroalprazolam</td>\n",
       "      <td>NaN</td>\n",
       "      <td>30</td>\n",
       "      <td>309.09015</td>\n",
       "      <td>309.089996</td>\n",
       "      <td>366.224718</td>\n",
       "      <td>5.001769e+05</td>\n",
       "      <td>CP4600.F1.S4558</td>\n",
       "      <td>6</td>\n",
       "      <td>NaN</td>\n",
       "      <td>4'-Cl-deschloroalprazolam</td>\n",
       "      <td>6</td>\n",
       "      <td>-0.497143</td>\n",
       "      <td>1.000000</td>\n",
       "    </tr>\n",
       "    <tr>\n",
       "      <th>2</th>\n",
       "      <td>2023-4588BG01</td>\n",
       "      <td>4'-Cl-deschloroalprazolam</td>\n",
       "      <td>NaN</td>\n",
       "      <td>30</td>\n",
       "      <td>309.09015</td>\n",
       "      <td>309.089539</td>\n",
       "      <td>371.941008</td>\n",
       "      <td>3.206217e+06</td>\n",
       "      <td>CP4230.F1.S4448</td>\n",
       "      <td>6</td>\n",
       "      <td>NaN</td>\n",
       "      <td>4'-Cl-deschloroalprazolam</td>\n",
       "      <td>6</td>\n",
       "      <td>-1.978147</td>\n",
       "      <td>1.000000</td>\n",
       "    </tr>\n",
       "    <tr>\n",
       "      <th>3</th>\n",
       "      <td>2023-1175BG01</td>\n",
       "      <td>4'-Cl-deschloroalprazolam</td>\n",
       "      <td>NaN</td>\n",
       "      <td>30</td>\n",
       "      <td>309.09015</td>\n",
       "      <td>309.089752</td>\n",
       "      <td>381.255216</td>\n",
       "      <td>4.291084e+05</td>\n",
       "      <td>CP4485.F1.S4842</td>\n",
       "      <td>6</td>\n",
       "      <td>NaN</td>\n",
       "      <td>4'-Cl-deschloroalprazolam</td>\n",
       "      <td>6</td>\n",
       "      <td>-1.287012</td>\n",
       "      <td>1.000000</td>\n",
       "    </tr>\n",
       "    <tr>\n",
       "      <th>4</th>\n",
       "      <td>2024-1573BG01</td>\n",
       "      <td>4'-Cl-deschloroalprazolam</td>\n",
       "      <td>NaN</td>\n",
       "      <td>30</td>\n",
       "      <td>309.09015</td>\n",
       "      <td>309.090179</td>\n",
       "      <td>369.809970</td>\n",
       "      <td>4.704544e+06</td>\n",
       "      <td>CP3545.F1.S4409</td>\n",
       "      <td>6</td>\n",
       "      <td>NaN</td>\n",
       "      <td>4'-Cl-deschloroalprazolam</td>\n",
       "      <td>6</td>\n",
       "      <td>0.095258</td>\n",
       "      <td>1.000000</td>\n",
       "    </tr>\n",
       "    <tr>\n",
       "      <th>...</th>\n",
       "      <td>...</td>\n",
       "      <td>...</td>\n",
       "      <td>...</td>\n",
       "      <td>...</td>\n",
       "      <td>...</td>\n",
       "      <td>...</td>\n",
       "      <td>...</td>\n",
       "      <td>...</td>\n",
       "      <td>...</td>\n",
       "      <td>...</td>\n",
       "      <td>...</td>\n",
       "      <td>...</td>\n",
       "      <td>...</td>\n",
       "      <td>...</td>\n",
       "      <td>...</td>\n",
       "    </tr>\n",
       "    <tr>\n",
       "      <th>4618</th>\n",
       "      <td>2023-0134BG01</td>\n",
       "      <td>Fluorofentanyl</td>\n",
       "      <td>5.48</td>\n",
       "      <td>10</td>\n",
       "      <td>355.21802</td>\n",
       "      <td>355.217621</td>\n",
       "      <td>335.391300</td>\n",
       "      <td>2.145146e+05</td>\n",
       "      <td>CP1970.F1.S4143</td>\n",
       "      <td>2</td>\n",
       "      <td>5.48</td>\n",
       "      <td>Fluorofentanyl</td>\n",
       "      <td>4</td>\n",
       "      <td>-1.123677</td>\n",
       "      <td>0.500000</td>\n",
       "    </tr>\n",
       "    <tr>\n",
       "      <th>4619</th>\n",
       "      <td>2023-0134BG01</td>\n",
       "      <td>Bromazolam</td>\n",
       "      <td>6.37</td>\n",
       "      <td>10</td>\n",
       "      <td>353.03964</td>\n",
       "      <td>353.039185</td>\n",
       "      <td>383.957976</td>\n",
       "      <td>3.761152e+05</td>\n",
       "      <td>CP2154.F1.S4751</td>\n",
       "      <td>2</td>\n",
       "      <td>6.37</td>\n",
       "      <td>Bromazolam</td>\n",
       "      <td>5</td>\n",
       "      <td>-1.290024</td>\n",
       "      <td>0.400000</td>\n",
       "    </tr>\n",
       "    <tr>\n",
       "      <th>4620</th>\n",
       "      <td>2023-0391BG01</td>\n",
       "      <td>Desalkylgidazepam</td>\n",
       "      <td>6.26</td>\n",
       "      <td>10</td>\n",
       "      <td>315.01275</td>\n",
       "      <td>315.012329</td>\n",
       "      <td>380.371344</td>\n",
       "      <td>3.464446e+05</td>\n",
       "      <td>CP3408.F1.S4716</td>\n",
       "      <td>2</td>\n",
       "      <td>6.26</td>\n",
       "      <td>Desalkylgidazepam</td>\n",
       "      <td>5</td>\n",
       "      <td>-1.336131</td>\n",
       "      <td>0.400000</td>\n",
       "    </tr>\n",
       "    <tr>\n",
       "      <th>4621</th>\n",
       "      <td>2023-0283BG01</td>\n",
       "      <td>Flubromazepam</td>\n",
       "      <td>6.33</td>\n",
       "      <td>10</td>\n",
       "      <td>333.00333</td>\n",
       "      <td>333.002655</td>\n",
       "      <td>378.785142</td>\n",
       "      <td>1.879374e+05</td>\n",
       "      <td>CP3284.F1.S4701</td>\n",
       "      <td>2</td>\n",
       "      <td>6.33</td>\n",
       "      <td>Flubromazepam</td>\n",
       "      <td>3</td>\n",
       "      <td>-2.026919</td>\n",
       "      <td>0.666667</td>\n",
       "    </tr>\n",
       "    <tr>\n",
       "      <th>4622</th>\n",
       "      <td>2023-0360BG01</td>\n",
       "      <td>Fluorofentanyl</td>\n",
       "      <td>5.48</td>\n",
       "      <td>10</td>\n",
       "      <td>355.21802</td>\n",
       "      <td>355.217617</td>\n",
       "      <td>331.004376</td>\n",
       "      <td>1.684816e+05</td>\n",
       "      <td>CP2032.F1.S4041</td>\n",
       "      <td>2</td>\n",
       "      <td>5.48</td>\n",
       "      <td>Fluorofentanyl</td>\n",
       "      <td>4</td>\n",
       "      <td>-1.133822</td>\n",
       "      <td>0.500000</td>\n",
       "    </tr>\n",
       "  </tbody>\n",
       "</table>\n",
       "<p>4623 rows × 15 columns</p>\n",
       "</div>"
      ],
      "text/plain": [
       "           filename              compound_name  Retention.Time  \\\n",
       "0     2023-2213BG01                   Eutylone             NaN   \n",
       "1     2024-2266BG01  4'-Cl-deschloroalprazolam             NaN   \n",
       "2     2023-4588BG01  4'-Cl-deschloroalprazolam             NaN   \n",
       "3     2023-1175BG01  4'-Cl-deschloroalprazolam             NaN   \n",
       "4     2024-1573BG01  4'-Cl-deschloroalprazolam             NaN   \n",
       "...             ...                        ...             ...   \n",
       "4618  2023-0134BG01             Fluorofentanyl            5.48   \n",
       "4619  2023-0134BG01                 Bromazolam            6.37   \n",
       "4620  2023-0391BG01          Desalkylgidazepam            6.26   \n",
       "4621  2023-0283BG01              Flubromazepam            6.33   \n",
       "4622  2023-0360BG01             Fluorofentanyl            5.48   \n",
       "\n",
       "      Retension.TimeWindow        m.z          mz          rt        intens  \\\n",
       "0                       30  236.12812  236.127695  245.673444  3.915749e+06   \n",
       "1                       30  309.09015  309.089996  366.224718  5.001769e+05   \n",
       "2                       30  309.09015  309.089539  371.941008  3.206217e+06   \n",
       "3                       30  309.09015  309.089752  381.255216  4.291084e+05   \n",
       "4                       30  309.09015  309.090179  369.809970  4.704544e+06   \n",
       "...                    ...        ...         ...         ...           ...   \n",
       "4618                    10  355.21802  355.217621  335.391300  2.145146e+05   \n",
       "4619                    10  353.03964  353.039185  383.957976  3.761152e+05   \n",
       "4620                    10  315.01275  315.012329  380.371344  3.464446e+05   \n",
       "4621                    10  333.00333  333.002655  378.785142  1.879374e+05   \n",
       "4622                    10  355.21802  355.217617  331.004376  1.684816e+05   \n",
       "\n",
       "             spectrum  matches  db_rt              Compound Name  \\\n",
       "0     CP2685.F1.S2959        7    NaN                   Eutylone   \n",
       "1     CP4600.F1.S4558        6    NaN  4'-Cl-deschloroalprazolam   \n",
       "2     CP4230.F1.S4448        6    NaN  4'-Cl-deschloroalprazolam   \n",
       "3     CP4485.F1.S4842        6    NaN  4'-Cl-deschloroalprazolam   \n",
       "4     CP3545.F1.S4409        6    NaN  4'-Cl-deschloroalprazolam   \n",
       "...               ...      ...    ...                        ...   \n",
       "4618  CP1970.F1.S4143        2   5.48             Fluorofentanyl   \n",
       "4619  CP2154.F1.S4751        2   6.37                 Bromazolam   \n",
       "4620  CP3408.F1.S4716        2   6.26          Desalkylgidazepam   \n",
       "4621  CP3284.F1.S4701        2   6.33              Flubromazepam   \n",
       "4622  CP2032.F1.S4041        2   5.48             Fluorofentanyl   \n",
       "\n",
       "      total_fragments   ppm_err  prop_reference_ions  \n",
       "0                   9 -1.801366             0.777778  \n",
       "1                   6 -0.497143             1.000000  \n",
       "2                   6 -1.978147             1.000000  \n",
       "3                   6 -1.287012             1.000000  \n",
       "4                   6  0.095258             1.000000  \n",
       "...               ...       ...                  ...  \n",
       "4618                4 -1.123677             0.500000  \n",
       "4619                5 -1.290024             0.400000  \n",
       "4620                5 -1.336131             0.400000  \n",
       "4621                3 -2.026919             0.666667  \n",
       "4622                4 -1.133822             0.500000  \n",
       "\n",
       "[4623 rows x 15 columns]"
      ]
     },
     "execution_count": 21,
     "metadata": {},
     "output_type": "execute_result"
    }
   ],
   "source": [
    "best2"
   ]
  },
  {
   "cell_type": "code",
   "execution_count": 22,
   "metadata": {},
   "outputs": [],
   "source": [
    "merged_df = pd.read_csv('Data/merged_detected.csv')"
   ]
  },
  {
   "cell_type": "code",
   "execution_count": 23,
   "metadata": {},
   "outputs": [
    {
     "data": {
      "text/html": [
       "<div>\n",
       "<style scoped>\n",
       "    .dataframe tbody tr th:only-of-type {\n",
       "        vertical-align: middle;\n",
       "    }\n",
       "\n",
       "    .dataframe tbody tr th {\n",
       "        vertical-align: top;\n",
       "    }\n",
       "\n",
       "    .dataframe thead th {\n",
       "        text-align: right;\n",
       "    }\n",
       "</style>\n",
       "<table border=\"1\" class=\"dataframe\">\n",
       "  <thead>\n",
       "    <tr style=\"text-align: right;\">\n",
       "      <th></th>\n",
       "      <th>file_name</th>\n",
       "      <th>Case_PTC_No</th>\n",
       "      <th>death_date</th>\n",
       "      <th>Drug_Nm</th>\n",
       "      <th>results.flag</th>\n",
       "    </tr>\n",
       "  </thead>\n",
       "  <tbody>\n",
       "    <tr>\n",
       "      <th>0</th>\n",
       "      <td>2020-1519BR01.mzML</td>\n",
       "      <td>20201519</td>\n",
       "      <td>6/26/2020</td>\n",
       "      <td>FENTANYL</td>\n",
       "      <td>detected</td>\n",
       "    </tr>\n",
       "    <tr>\n",
       "      <th>1</th>\n",
       "      <td>2020-1519BR01.mzML</td>\n",
       "      <td>20201519</td>\n",
       "      <td>6/26/2020</td>\n",
       "      <td>NORFENTANYL</td>\n",
       "      <td>detected</td>\n",
       "    </tr>\n",
       "    <tr>\n",
       "      <th>2</th>\n",
       "      <td>2020-1519BR01.mzML</td>\n",
       "      <td>20201519</td>\n",
       "      <td>6/26/2020</td>\n",
       "      <td>ACETYLFENTANYL</td>\n",
       "      <td>detected</td>\n",
       "    </tr>\n",
       "    <tr>\n",
       "      <th>3</th>\n",
       "      <td>2020-1519BR01.mzML</td>\n",
       "      <td>20201519</td>\n",
       "      <td>6/26/2020</td>\n",
       "      <td>METHAMPHETAMINE</td>\n",
       "      <td>detected</td>\n",
       "    </tr>\n",
       "    <tr>\n",
       "      <th>4</th>\n",
       "      <td>2020-1519BR01.mzML</td>\n",
       "      <td>20201519</td>\n",
       "      <td>6/26/2020</td>\n",
       "      <td>AMPHETAMINE</td>\n",
       "      <td>detected</td>\n",
       "    </tr>\n",
       "  </tbody>\n",
       "</table>\n",
       "</div>"
      ],
      "text/plain": [
       "            file_name  Case_PTC_No death_date          Drug_Nm results.flag\n",
       "0  2020-1519BR01.mzML     20201519  6/26/2020         FENTANYL     detected\n",
       "1  2020-1519BR01.mzML     20201519  6/26/2020      NORFENTANYL     detected\n",
       "2  2020-1519BR01.mzML     20201519  6/26/2020   ACETYLFENTANYL     detected\n",
       "3  2020-1519BR01.mzML     20201519  6/26/2020  METHAMPHETAMINE     detected\n",
       "4  2020-1519BR01.mzML     20201519  6/26/2020      AMPHETAMINE     detected"
      ]
     },
     "execution_count": 23,
     "metadata": {},
     "output_type": "execute_result"
    }
   ],
   "source": [
    "merged_df.head()"
   ]
  },
  {
   "cell_type": "code",
   "execution_count": 24,
   "metadata": {},
   "outputs": [],
   "source": [
    "merged_df['file_name'] = merged_df['file_name'].str.replace('.mzML', '', regex=False)"
   ]
  },
  {
   "cell_type": "code",
   "execution_count": 25,
   "metadata": {},
   "outputs": [
    {
     "data": {
      "text/html": [
       "<div>\n",
       "<style scoped>\n",
       "    .dataframe tbody tr th:only-of-type {\n",
       "        vertical-align: middle;\n",
       "    }\n",
       "\n",
       "    .dataframe tbody tr th {\n",
       "        vertical-align: top;\n",
       "    }\n",
       "\n",
       "    .dataframe thead th {\n",
       "        text-align: right;\n",
       "    }\n",
       "</style>\n",
       "<table border=\"1\" class=\"dataframe\">\n",
       "  <thead>\n",
       "    <tr style=\"text-align: right;\">\n",
       "      <th></th>\n",
       "      <th>file_name</th>\n",
       "      <th>Case_PTC_No</th>\n",
       "      <th>death_date</th>\n",
       "      <th>Drug_Nm</th>\n",
       "      <th>results.flag</th>\n",
       "    </tr>\n",
       "  </thead>\n",
       "  <tbody>\n",
       "    <tr>\n",
       "      <th>0</th>\n",
       "      <td>2020-1519BR01</td>\n",
       "      <td>20201519</td>\n",
       "      <td>6/26/2020</td>\n",
       "      <td>FENTANYL</td>\n",
       "      <td>detected</td>\n",
       "    </tr>\n",
       "    <tr>\n",
       "      <th>1</th>\n",
       "      <td>2020-1519BR01</td>\n",
       "      <td>20201519</td>\n",
       "      <td>6/26/2020</td>\n",
       "      <td>NORFENTANYL</td>\n",
       "      <td>detected</td>\n",
       "    </tr>\n",
       "    <tr>\n",
       "      <th>2</th>\n",
       "      <td>2020-1519BR01</td>\n",
       "      <td>20201519</td>\n",
       "      <td>6/26/2020</td>\n",
       "      <td>ACETYLFENTANYL</td>\n",
       "      <td>detected</td>\n",
       "    </tr>\n",
       "    <tr>\n",
       "      <th>3</th>\n",
       "      <td>2020-1519BR01</td>\n",
       "      <td>20201519</td>\n",
       "      <td>6/26/2020</td>\n",
       "      <td>METHAMPHETAMINE</td>\n",
       "      <td>detected</td>\n",
       "    </tr>\n",
       "    <tr>\n",
       "      <th>4</th>\n",
       "      <td>2020-1519BR01</td>\n",
       "      <td>20201519</td>\n",
       "      <td>6/26/2020</td>\n",
       "      <td>AMPHETAMINE</td>\n",
       "      <td>detected</td>\n",
       "    </tr>\n",
       "  </tbody>\n",
       "</table>\n",
       "</div>"
      ],
      "text/plain": [
       "       file_name  Case_PTC_No death_date          Drug_Nm results.flag\n",
       "0  2020-1519BR01     20201519  6/26/2020         FENTANYL     detected\n",
       "1  2020-1519BR01     20201519  6/26/2020      NORFENTANYL     detected\n",
       "2  2020-1519BR01     20201519  6/26/2020   ACETYLFENTANYL     detected\n",
       "3  2020-1519BR01     20201519  6/26/2020  METHAMPHETAMINE     detected\n",
       "4  2020-1519BR01     20201519  6/26/2020      AMPHETAMINE     detected"
      ]
     },
     "execution_count": 25,
     "metadata": {},
     "output_type": "execute_result"
    }
   ],
   "source": [
    "merged_df.head()"
   ]
  },
  {
   "cell_type": "code",
   "execution_count": 26,
   "metadata": {},
   "outputs": [],
   "source": [
    "final_df = pd.merge(merged_df, best2, left_on='file_name', right_on='filename')"
   ]
  },
  {
   "cell_type": "code",
   "execution_count": 27,
   "metadata": {},
   "outputs": [
    {
     "data": {
      "text/html": [
       "<div>\n",
       "<style scoped>\n",
       "    .dataframe tbody tr th:only-of-type {\n",
       "        vertical-align: middle;\n",
       "    }\n",
       "\n",
       "    .dataframe tbody tr th {\n",
       "        vertical-align: top;\n",
       "    }\n",
       "\n",
       "    .dataframe thead th {\n",
       "        text-align: right;\n",
       "    }\n",
       "</style>\n",
       "<table border=\"1\" class=\"dataframe\">\n",
       "  <thead>\n",
       "    <tr style=\"text-align: right;\">\n",
       "      <th></th>\n",
       "      <th>file_name</th>\n",
       "      <th>Case_PTC_No</th>\n",
       "      <th>death_date</th>\n",
       "      <th>Drug_Nm</th>\n",
       "      <th>results.flag</th>\n",
       "      <th>filename</th>\n",
       "      <th>compound_name</th>\n",
       "      <th>Retention.Time</th>\n",
       "      <th>Retension.TimeWindow</th>\n",
       "      <th>m.z</th>\n",
       "      <th>mz</th>\n",
       "      <th>rt</th>\n",
       "      <th>intens</th>\n",
       "      <th>spectrum</th>\n",
       "      <th>matches</th>\n",
       "      <th>db_rt</th>\n",
       "      <th>Compound Name</th>\n",
       "      <th>total_fragments</th>\n",
       "      <th>ppm_err</th>\n",
       "      <th>prop_reference_ions</th>\n",
       "    </tr>\n",
       "  </thead>\n",
       "  <tbody>\n",
       "    <tr>\n",
       "      <th>0</th>\n",
       "      <td>2023-0001BG01</td>\n",
       "      <td>20230001</td>\n",
       "      <td>12/28/2022</td>\n",
       "      <td>COCAINE</td>\n",
       "      <td>detected</td>\n",
       "      <td>2023-0001BG01</td>\n",
       "      <td>Desalkylgidazepam</td>\n",
       "      <td>6.26</td>\n",
       "      <td>10</td>\n",
       "      <td>315.01275</td>\n",
       "      <td>315.012238</td>\n",
       "      <td>379.357932</td>\n",
       "      <td>1.051793e+06</td>\n",
       "      <td>CP4614.F1.S4678</td>\n",
       "      <td>5</td>\n",
       "      <td>6.26</td>\n",
       "      <td>Desalkylgidazepam</td>\n",
       "      <td>5</td>\n",
       "      <td>-1.626763</td>\n",
       "      <td>1.000000</td>\n",
       "    </tr>\n",
       "    <tr>\n",
       "      <th>1</th>\n",
       "      <td>2023-0001BG01</td>\n",
       "      <td>20230001</td>\n",
       "      <td>12/28/2022</td>\n",
       "      <td>COCAINE</td>\n",
       "      <td>detected</td>\n",
       "      <td>2023-0001BG01</td>\n",
       "      <td>Bromazolam</td>\n",
       "      <td>6.37</td>\n",
       "      <td>10</td>\n",
       "      <td>353.03964</td>\n",
       "      <td>353.039062</td>\n",
       "      <td>381.541668</td>\n",
       "      <td>2.304417e+05</td>\n",
       "      <td>CP4607.F1.S4669</td>\n",
       "      <td>5</td>\n",
       "      <td>6.37</td>\n",
       "      <td>Bromazolam</td>\n",
       "      <td>5</td>\n",
       "      <td>-1.635794</td>\n",
       "      <td>1.000000</td>\n",
       "    </tr>\n",
       "    <tr>\n",
       "      <th>2</th>\n",
       "      <td>2023-0001BG01</td>\n",
       "      <td>20230001</td>\n",
       "      <td>12/28/2022</td>\n",
       "      <td>COCAINE</td>\n",
       "      <td>detected</td>\n",
       "      <td>2023-0001BG01</td>\n",
       "      <td>Fluorofentanyl</td>\n",
       "      <td>5.48</td>\n",
       "      <td>10</td>\n",
       "      <td>355.21802</td>\n",
       "      <td>355.217497</td>\n",
       "      <td>325.845654</td>\n",
       "      <td>3.380081e+05</td>\n",
       "      <td>CP4173.F1.S4003</td>\n",
       "      <td>4</td>\n",
       "      <td>5.48</td>\n",
       "      <td>Fluorofentanyl</td>\n",
       "      <td>4</td>\n",
       "      <td>-1.471573</td>\n",
       "      <td>1.000000</td>\n",
       "    </tr>\n",
       "    <tr>\n",
       "      <th>3</th>\n",
       "      <td>2023-0001BG01</td>\n",
       "      <td>20230001</td>\n",
       "      <td>12/28/2022</td>\n",
       "      <td>COCAINE</td>\n",
       "      <td>detected</td>\n",
       "      <td>2023-0001BG01</td>\n",
       "      <td>3-methylmethcathinone</td>\n",
       "      <td>NaN</td>\n",
       "      <td>30</td>\n",
       "      <td>178.12264</td>\n",
       "      <td>178.122612</td>\n",
       "      <td>303.849222</td>\n",
       "      <td>8.334922e+05</td>\n",
       "      <td>CP5237.F1.S3987</td>\n",
       "      <td>3</td>\n",
       "      <td>NaN</td>\n",
       "      <td>3-methylmethcathinone</td>\n",
       "      <td>7</td>\n",
       "      <td>-0.156422</td>\n",
       "      <td>0.428571</td>\n",
       "    </tr>\n",
       "    <tr>\n",
       "      <th>4</th>\n",
       "      <td>2023-0001BG01</td>\n",
       "      <td>20230001</td>\n",
       "      <td>12/28/2022</td>\n",
       "      <td>COCAINE</td>\n",
       "      <td>detected</td>\n",
       "      <td>2023-0001BG01</td>\n",
       "      <td>Deschloroetizolam</td>\n",
       "      <td>6.16</td>\n",
       "      <td>10</td>\n",
       "      <td>309.11684</td>\n",
       "      <td>309.116393</td>\n",
       "      <td>370.940448</td>\n",
       "      <td>1.766447e+05</td>\n",
       "      <td>CP4519.F1.S4570</td>\n",
       "      <td>2</td>\n",
       "      <td>6.16</td>\n",
       "      <td>Deschloroetizolam</td>\n",
       "      <td>2</td>\n",
       "      <td>-1.445459</td>\n",
       "      <td>1.000000</td>\n",
       "    </tr>\n",
       "  </tbody>\n",
       "</table>\n",
       "</div>"
      ],
      "text/plain": [
       "       file_name  Case_PTC_No  death_date  Drug_Nm results.flag  \\\n",
       "0  2023-0001BG01     20230001  12/28/2022  COCAINE     detected   \n",
       "1  2023-0001BG01     20230001  12/28/2022  COCAINE     detected   \n",
       "2  2023-0001BG01     20230001  12/28/2022  COCAINE     detected   \n",
       "3  2023-0001BG01     20230001  12/28/2022  COCAINE     detected   \n",
       "4  2023-0001BG01     20230001  12/28/2022  COCAINE     detected   \n",
       "\n",
       "        filename          compound_name  Retention.Time  Retension.TimeWindow  \\\n",
       "0  2023-0001BG01      Desalkylgidazepam            6.26                    10   \n",
       "1  2023-0001BG01             Bromazolam            6.37                    10   \n",
       "2  2023-0001BG01         Fluorofentanyl            5.48                    10   \n",
       "3  2023-0001BG01  3-methylmethcathinone             NaN                    30   \n",
       "4  2023-0001BG01      Deschloroetizolam            6.16                    10   \n",
       "\n",
       "         m.z          mz          rt        intens         spectrum  matches  \\\n",
       "0  315.01275  315.012238  379.357932  1.051793e+06  CP4614.F1.S4678        5   \n",
       "1  353.03964  353.039062  381.541668  2.304417e+05  CP4607.F1.S4669        5   \n",
       "2  355.21802  355.217497  325.845654  3.380081e+05  CP4173.F1.S4003        4   \n",
       "3  178.12264  178.122612  303.849222  8.334922e+05  CP5237.F1.S3987        3   \n",
       "4  309.11684  309.116393  370.940448  1.766447e+05  CP4519.F1.S4570        2   \n",
       "\n",
       "   db_rt          Compound Name  total_fragments   ppm_err  \\\n",
       "0   6.26      Desalkylgidazepam                5 -1.626763   \n",
       "1   6.37             Bromazolam                5 -1.635794   \n",
       "2   5.48         Fluorofentanyl                4 -1.471573   \n",
       "3    NaN  3-methylmethcathinone                7 -0.156422   \n",
       "4   6.16      Deschloroetizolam                2 -1.445459   \n",
       "\n",
       "   prop_reference_ions  \n",
       "0             1.000000  \n",
       "1             1.000000  \n",
       "2             1.000000  \n",
       "3             0.428571  \n",
       "4             1.000000  "
      ]
     },
     "execution_count": 27,
     "metadata": {},
     "output_type": "execute_result"
    }
   ],
   "source": [
    "final_df.head()"
   ]
  },
  {
   "cell_type": "code",
   "execution_count": 28,
   "metadata": {},
   "outputs": [],
   "source": [
    "final_df.to_csv('Data/final_df_with_best2.csv', index=False) "
   ]
  },
  {
   "cell_type": "code",
   "execution_count": 32,
   "metadata": {},
   "outputs": [
    {
     "data": {
      "text/plain": [
       "results.flag\n",
       "detected    35696\n",
       "Name: count, dtype: int64"
      ]
     },
     "execution_count": 32,
     "metadata": {},
     "output_type": "execute_result"
    }
   ],
   "source": [
    "final_df['results.flag'].value_counts()"
   ]
  },
  {
   "cell_type": "code",
   "execution_count": 33,
   "metadata": {},
   "outputs": [
    {
     "data": {
      "text/plain": [
       "(35696, 20)"
      ]
     },
     "execution_count": 33,
     "metadata": {},
     "output_type": "execute_result"
    }
   ],
   "source": [
    "final_df.shape"
   ]
  },
  {
   "cell_type": "code",
   "execution_count": null,
   "metadata": {},
   "outputs": [],
   "source": []
  }
 ],
 "metadata": {
  "kernelspec": {
   "display_name": "pt4",
   "language": "python",
   "name": "python3"
  },
  "language_info": {
   "codemirror_mode": {
    "name": "ipython",
    "version": 3
   },
   "file_extension": ".py",
   "mimetype": "text/x-python",
   "name": "python",
   "nbconvert_exporter": "python",
   "pygments_lexer": "ipython3",
   "version": "3.10.13"
  }
 },
 "nbformat": 4,
 "nbformat_minor": 2
}
