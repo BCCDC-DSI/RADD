{
 "cells": [
  {
   "cell_type": "code",
   "execution_count": 1,
   "id": "84af1c4a-b635-44ca-a841-4a4ca3822a4f",
   "metadata": {},
   "outputs": [],
   "source": [
    "import pandas as pd\n",
    "import numpy as np\n",
    "import yaml\n",
    "import os\n",
    "import sys\n",
    "sys.path.append('src/')\n",
    "import utils"
   ]
  },
  {
   "cell_type": "markdown",
   "id": "02afb4cf-60a1-4e7e-a331-4158d4e69d73",
   "metadata": {},
   "source": [
    "# Load the new dataframe"
   ]
  },
  {
   "cell_type": "code",
   "execution_count": 2,
   "id": "cc62384b-7c87-4caf-9f82-40cadf522746",
   "metadata": {},
   "outputs": [],
   "source": [
    "with open('config/config.yaml') as f:\n",
    "    config = yaml.load(f, Loader=yaml.FullLoader)"
   ]
  },
  {
   "cell_type": "code",
   "execution_count": null,
   "id": "4a5ccfd2-cb0e-4fbd-8857-f5ca1bb1aa42",
   "metadata": {},
   "outputs": [],
   "source": []
  },
  {
   "cell_type": "code",
   "execution_count": 3,
   "id": "406f65e1-1c04-4dff-a2ea-bdbe95dde79f",
   "metadata": {},
   "outputs": [],
   "source": [
    "df = pd.read_csv('Data/training_data_bccdc.csv')"
   ]
  },
  {
   "cell_type": "code",
   "execution_count": 4,
   "id": "8d005b51-fdfd-4bd2-9796-0b90c2f6df18",
   "metadata": {},
   "outputs": [
    {
     "data": {
      "text/html": [
       "<div>\n",
       "<style scoped>\n",
       "    .dataframe tbody tr th:only-of-type {\n",
       "        vertical-align: middle;\n",
       "    }\n",
       "\n",
       "    .dataframe tbody tr th {\n",
       "        vertical-align: top;\n",
       "    }\n",
       "\n",
       "    .dataframe thead th {\n",
       "        text-align: right;\n",
       "    }\n",
       "</style>\n",
       "<table border=\"1\" class=\"dataframe\">\n",
       "  <thead>\n",
       "    <tr style=\"text-align: right;\">\n",
       "      <th></th>\n",
       "      <th>Compound</th>\n",
       "      <th>Workflow</th>\n",
       "      <th>Associated Target Peak</th>\n",
       "      <th>MS Order</th>\n",
       "      <th>Precursor m/z</th>\n",
       "      <th>Product m/z</th>\n",
       "      <th>m/z</th>\n",
       "      <th>Height Threshold</th>\n",
       "      <th>Area Threshold</th>\n",
       "      <th>Collision Energy</th>\n",
       "      <th>...</th>\n",
       "      <th>Target Ratio</th>\n",
       "      <th>Window Type</th>\n",
       "      <th>PeakPolarity</th>\n",
       "      <th>Adduct</th>\n",
       "      <th>Charge State</th>\n",
       "      <th>Retention Time</th>\n",
       "      <th>Retention Time Window</th>\n",
       "      <th>Integration Strategy</th>\n",
       "      <th>PTC Confirmed RT</th>\n",
       "      <th>SMILES</th>\n",
       "    </tr>\n",
       "  </thead>\n",
       "  <tbody>\n",
       "    <tr>\n",
       "      <th>0</th>\n",
       "      <td>Ketamine</td>\n",
       "      <td>TargetPeak</td>\n",
       "      <td>NaN</td>\n",
       "      <td>ms1</td>\n",
       "      <td>238.09932</td>\n",
       "      <td>238.09932</td>\n",
       "      <td>238.09932</td>\n",
       "      <td>5000</td>\n",
       "      <td>5000</td>\n",
       "      <td>0</td>\n",
       "      <td>...</td>\n",
       "      <td>NaN</td>\n",
       "      <td>eAbsolute</td>\n",
       "      <td>Positive</td>\n",
       "      <td>M+H</td>\n",
       "      <td>1.0</td>\n",
       "      <td>3.77</td>\n",
       "      <td>30.0</td>\n",
       "      <td>Individual</td>\n",
       "      <td>3.99</td>\n",
       "      <td>CNC1(CCCCC1=O)C2=CC=CC=C2Cl</td>\n",
       "    </tr>\n",
       "    <tr>\n",
       "      <th>1</th>\n",
       "      <td>Ketamine</td>\n",
       "      <td>Fragment</td>\n",
       "      <td>1</td>\n",
       "      <td>ms2</td>\n",
       "      <td>238.09932</td>\n",
       "      <td>125.01541</td>\n",
       "      <td>125.01541</td>\n",
       "      <td>5000</td>\n",
       "      <td>0</td>\n",
       "      <td>0</td>\n",
       "      <td>...</td>\n",
       "      <td>NaN</td>\n",
       "      <td>eAbsolute</td>\n",
       "      <td>Positive</td>\n",
       "      <td>M+H</td>\n",
       "      <td>1.0</td>\n",
       "      <td>3.77</td>\n",
       "      <td>30.0</td>\n",
       "      <td>Individual</td>\n",
       "      <td>3.99</td>\n",
       "      <td>CNC1(CCCCC1=O)C2=CC=CC=C2Cl</td>\n",
       "    </tr>\n",
       "    <tr>\n",
       "      <th>2</th>\n",
       "      <td>Ketamine</td>\n",
       "      <td>Fragment</td>\n",
       "      <td>1</td>\n",
       "      <td>ms2</td>\n",
       "      <td>238.09932</td>\n",
       "      <td>179.06221</td>\n",
       "      <td>179.06221</td>\n",
       "      <td>5000</td>\n",
       "      <td>0</td>\n",
       "      <td>0</td>\n",
       "      <td>...</td>\n",
       "      <td>NaN</td>\n",
       "      <td>eAbsolute</td>\n",
       "      <td>Positive</td>\n",
       "      <td>M+H</td>\n",
       "      <td>1.0</td>\n",
       "      <td>3.77</td>\n",
       "      <td>30.0</td>\n",
       "      <td>Individual</td>\n",
       "      <td>3.99</td>\n",
       "      <td>CNC1(CCCCC1=O)C2=CC=CC=C2Cl</td>\n",
       "    </tr>\n",
       "    <tr>\n",
       "      <th>3</th>\n",
       "      <td>Ketamine</td>\n",
       "      <td>Fragment</td>\n",
       "      <td>1</td>\n",
       "      <td>ms2</td>\n",
       "      <td>238.09932</td>\n",
       "      <td>207.05737</td>\n",
       "      <td>207.05737</td>\n",
       "      <td>5000</td>\n",
       "      <td>0</td>\n",
       "      <td>0</td>\n",
       "      <td>...</td>\n",
       "      <td>NaN</td>\n",
       "      <td>eAbsolute</td>\n",
       "      <td>Positive</td>\n",
       "      <td>M+H</td>\n",
       "      <td>1.0</td>\n",
       "      <td>3.77</td>\n",
       "      <td>30.0</td>\n",
       "      <td>Individual</td>\n",
       "      <td>3.99</td>\n",
       "      <td>CNC1(CCCCC1=O)C2=CC=CC=C2Cl</td>\n",
       "    </tr>\n",
       "    <tr>\n",
       "      <th>4</th>\n",
       "      <td>Ketamine</td>\n",
       "      <td>Fragment</td>\n",
       "      <td>1</td>\n",
       "      <td>ms2</td>\n",
       "      <td>238.09932</td>\n",
       "      <td>220.08827</td>\n",
       "      <td>220.08827</td>\n",
       "      <td>5000</td>\n",
       "      <td>0</td>\n",
       "      <td>0</td>\n",
       "      <td>...</td>\n",
       "      <td>NaN</td>\n",
       "      <td>eAbsolute</td>\n",
       "      <td>Positive</td>\n",
       "      <td>M+H</td>\n",
       "      <td>1.0</td>\n",
       "      <td>3.77</td>\n",
       "      <td>30.0</td>\n",
       "      <td>Individual</td>\n",
       "      <td>3.99</td>\n",
       "      <td>CNC1(CCCCC1=O)C2=CC=CC=C2Cl</td>\n",
       "    </tr>\n",
       "  </tbody>\n",
       "</table>\n",
       "<p>5 rows × 25 columns</p>\n",
       "</div>"
      ],
      "text/plain": [
       "   Compound    Workflow Associated Target Peak MS Order Precursor m/z  \\\n",
       "0  Ketamine  TargetPeak                    NaN      ms1     238.09932   \n",
       "1  Ketamine    Fragment                      1      ms2     238.09932   \n",
       "2  Ketamine    Fragment                      1      ms2     238.09932   \n",
       "3  Ketamine    Fragment                      1      ms2     238.09932   \n",
       "4  Ketamine    Fragment                      1      ms2     238.09932   \n",
       "\n",
       "  Product m/z        m/z Height Threshold Area Threshold Collision Energy  \\\n",
       "0   238.09932  238.09932             5000           5000                0   \n",
       "1   125.01541  125.01541             5000              0                0   \n",
       "2   179.06221  179.06221             5000              0                0   \n",
       "3   207.05737  207.05737             5000              0                0   \n",
       "4   220.08827  220.08827             5000              0                0   \n",
       "\n",
       "   ...  Target Ratio  Window Type  PeakPolarity  Adduct  Charge State  \\\n",
       "0  ...           NaN    eAbsolute      Positive     M+H           1.0   \n",
       "1  ...           NaN    eAbsolute      Positive     M+H           1.0   \n",
       "2  ...           NaN    eAbsolute      Positive     M+H           1.0   \n",
       "3  ...           NaN    eAbsolute      Positive     M+H           1.0   \n",
       "4  ...           NaN    eAbsolute      Positive     M+H           1.0   \n",
       "\n",
       "   Retention Time Retention Time Window Integration Strategy PTC Confirmed RT  \\\n",
       "0            3.77                  30.0           Individual             3.99   \n",
       "1            3.77                  30.0           Individual             3.99   \n",
       "2            3.77                  30.0           Individual             3.99   \n",
       "3            3.77                  30.0           Individual             3.99   \n",
       "4            3.77                  30.0           Individual             3.99   \n",
       "\n",
       "                        SMILES  \n",
       "0  CNC1(CCCCC1=O)C2=CC=CC=C2Cl  \n",
       "1  CNC1(CCCCC1=O)C2=CC=CC=C2Cl  \n",
       "2  CNC1(CCCCC1=O)C2=CC=CC=C2Cl  \n",
       "3  CNC1(CCCCC1=O)C2=CC=CC=C2Cl  \n",
       "4  CNC1(CCCCC1=O)C2=CC=CC=C2Cl  \n",
       "\n",
       "[5 rows x 25 columns]"
      ]
     },
     "execution_count": 4,
     "metadata": {},
     "output_type": "execute_result"
    }
   ],
   "source": [
    "df.head()"
   ]
  },
  {
   "cell_type": "code",
   "execution_count": 5,
   "id": "72e7d8b8-be9b-4004-adec-7cd6bcb57bf4",
   "metadata": {},
   "outputs": [
    {
     "data": {
      "text/plain": [
       "5441"
      ]
     },
     "execution_count": 5,
     "metadata": {},
     "output_type": "execute_result"
    }
   ],
   "source": [
    "df['SMILES'].isnull().sum()"
   ]
  },
  {
   "cell_type": "code",
   "execution_count": 6,
   "id": "c55c0a0f-2d14-4034-8565-edae869c3460",
   "metadata": {},
   "outputs": [
    {
     "data": {
      "text/plain": [
       "(10053, 25)"
      ]
     },
     "execution_count": 6,
     "metadata": {},
     "output_type": "execute_result"
    }
   ],
   "source": [
    "df.shape"
   ]
  },
  {
   "cell_type": "code",
   "execution_count": 7,
   "id": "3ca3a769-f630-4156-a5da-f1f9995005f5",
   "metadata": {},
   "outputs": [
    {
     "data": {
      "text/plain": [
       "0.541231473192082"
      ]
     },
     "execution_count": 7,
     "metadata": {},
     "output_type": "execute_result"
    }
   ],
   "source": [
    "5441/10053"
   ]
  },
  {
   "cell_type": "markdown",
   "id": "79367eb1-9e40-4480-8961-d190d8e57156",
   "metadata": {},
   "source": [
    "There are 5,441 missing entries accounting for 54% of the missing data"
   ]
  },
  {
   "cell_type": "markdown",
   "id": "cfa588cc-d4d0-4663-9691-ec14532c3494",
   "metadata": {},
   "source": [
    "# Investigate the Samples we can perform the ML on"
   ]
  },
  {
   "cell_type": "code",
   "execution_count": 10,
   "id": "1d47cd0c-54d5-4714-8590-100147c4304c",
   "metadata": {},
   "outputs": [],
   "source": [
    "df = df[df['PTC Confirmed RT'].notnull()]"
   ]
  },
  {
   "cell_type": "code",
   "execution_count": 11,
   "id": "1267d89e-4c6a-4111-8176-a07b86fa67a5",
   "metadata": {},
   "outputs": [
    {
     "data": {
      "text/plain": [
       "(866, 25)"
      ]
     },
     "execution_count": 11,
     "metadata": {},
     "output_type": "execute_result"
    }
   ],
   "source": [
    "df.shape"
   ]
  },
  {
   "cell_type": "code",
   "execution_count": 12,
   "id": "afc63a00-4eec-49ad-9d80-870ba5bff999",
   "metadata": {},
   "outputs": [
    {
     "data": {
      "text/plain": [
       "286"
      ]
     },
     "execution_count": 12,
     "metadata": {},
     "output_type": "execute_result"
    }
   ],
   "source": [
    "df['SMILES'].isnull().sum()"
   ]
  },
  {
   "cell_type": "code",
   "execution_count": 13,
   "id": "ed7453e6-9847-4798-a339-1bd2acae2d76",
   "metadata": {},
   "outputs": [
    {
     "data": {
      "text/plain": [
       "0.3302540415704388"
      ]
     },
     "execution_count": 13,
     "metadata": {},
     "output_type": "execute_result"
    }
   ],
   "source": [
    "286/866"
   ]
  },
  {
   "cell_type": "code",
   "execution_count": 14,
   "id": "a693b3e8-fc91-4dfc-becb-44b6869d93aa",
   "metadata": {},
   "outputs": [],
   "source": [
    "unique_df = df.drop_duplicates(subset=['Compound'])"
   ]
  },
  {
   "cell_type": "code",
   "execution_count": 15,
   "id": "01d9b3bf-3a1e-41e4-8e0f-3beb134317c4",
   "metadata": {},
   "outputs": [
    {
     "data": {
      "text/plain": [
       "(170, 25)"
      ]
     },
     "execution_count": 15,
     "metadata": {},
     "output_type": "execute_result"
    }
   ],
   "source": [
    "unique_df.shape"
   ]
  },
  {
   "cell_type": "code",
   "execution_count": 16,
   "id": "21542d80-d75a-4389-88da-380dd05be54e",
   "metadata": {},
   "outputs": [
    {
     "data": {
      "text/plain": [
       "56"
      ]
     },
     "execution_count": 16,
     "metadata": {},
     "output_type": "execute_result"
    }
   ],
   "source": [
    "unique_df['SMILES'].isnull().sum()"
   ]
  },
  {
   "cell_type": "code",
   "execution_count": 17,
   "id": "d9d3de08-13bb-469d-9877-0523693bf6a8",
   "metadata": {},
   "outputs": [
    {
     "data": {
      "text/plain": [
       "0.32941176470588235"
      ]
     },
     "execution_count": 17,
     "metadata": {},
     "output_type": "execute_result"
    }
   ],
   "source": [
    "56/170"
   ]
  },
  {
   "cell_type": "code",
   "execution_count": 18,
   "id": "f44775ac-2014-44c0-8b97-1bc7b07b4b12",
   "metadata": {},
   "outputs": [],
   "source": [
    "missing_smiles_df = unique_df[unique_df['SMILES'].isnull()]"
   ]
  },
  {
   "cell_type": "code",
   "execution_count": 19,
   "id": "e86b5004-7f1b-4fcf-b282-6c0b09a82eac",
   "metadata": {
    "scrolled": true
   },
   "outputs": [
    {
     "data": {
      "text/html": [
       "<div>\n",
       "<style scoped>\n",
       "    .dataframe tbody tr th:only-of-type {\n",
       "        vertical-align: middle;\n",
       "    }\n",
       "\n",
       "    .dataframe tbody tr th {\n",
       "        vertical-align: top;\n",
       "    }\n",
       "\n",
       "    .dataframe thead th {\n",
       "        text-align: right;\n",
       "    }\n",
       "</style>\n",
       "<table border=\"1\" class=\"dataframe\">\n",
       "  <thead>\n",
       "    <tr style=\"text-align: right;\">\n",
       "      <th></th>\n",
       "      <th>Compound</th>\n",
       "      <th>Workflow</th>\n",
       "      <th>Associated Target Peak</th>\n",
       "      <th>MS Order</th>\n",
       "      <th>Precursor m/z</th>\n",
       "      <th>Product m/z</th>\n",
       "      <th>m/z</th>\n",
       "      <th>Height Threshold</th>\n",
       "      <th>Area Threshold</th>\n",
       "      <th>Collision Energy</th>\n",
       "      <th>...</th>\n",
       "      <th>Target Ratio</th>\n",
       "      <th>Window Type</th>\n",
       "      <th>PeakPolarity</th>\n",
       "      <th>Adduct</th>\n",
       "      <th>Charge State</th>\n",
       "      <th>Retention Time</th>\n",
       "      <th>Retention Time Window</th>\n",
       "      <th>Integration Strategy</th>\n",
       "      <th>PTC Confirmed RT</th>\n",
       "      <th>SMILES</th>\n",
       "    </tr>\n",
       "  </thead>\n",
       "  <tbody>\n",
       "    <tr>\n",
       "      <th>68</th>\n",
       "      <td>10hydroxycarbazepine</td>\n",
       "      <td>TargetPeak</td>\n",
       "      <td>NaN</td>\n",
       "      <td>ms1</td>\n",
       "      <td>255.1128</td>\n",
       "      <td>255.1128</td>\n",
       "      <td>255.1128</td>\n",
       "      <td>5000</td>\n",
       "      <td>5000</td>\n",
       "      <td>0</td>\n",
       "      <td>...</td>\n",
       "      <td>NaN</td>\n",
       "      <td>eAbsolute</td>\n",
       "      <td>Positive</td>\n",
       "      <td>M+H</td>\n",
       "      <td>1.0</td>\n",
       "      <td>4.71</td>\n",
       "      <td>30.0</td>\n",
       "      <td>Individual</td>\n",
       "      <td>4.90</td>\n",
       "      <td>NaN</td>\n",
       "    </tr>\n",
       "    <tr>\n",
       "      <th>370</th>\n",
       "      <td>6Monoacetylmorphine</td>\n",
       "      <td>TargetPeak</td>\n",
       "      <td>NaN</td>\n",
       "      <td>ms1</td>\n",
       "      <td>328.15433</td>\n",
       "      <td>328.15433</td>\n",
       "      <td>328.15433</td>\n",
       "      <td>5000</td>\n",
       "      <td>5000</td>\n",
       "      <td>0</td>\n",
       "      <td>...</td>\n",
       "      <td>NaN</td>\n",
       "      <td>eAbsolute</td>\n",
       "      <td>Positive</td>\n",
       "      <td>M+H</td>\n",
       "      <td>1.0</td>\n",
       "      <td>3.26</td>\n",
       "      <td>30.0</td>\n",
       "      <td>Individual</td>\n",
       "      <td>3.58</td>\n",
       "      <td>NaN</td>\n",
       "    </tr>\n",
       "    <tr>\n",
       "      <th>395</th>\n",
       "      <td>7Aminoclonazepam</td>\n",
       "      <td>TargetPeak</td>\n",
       "      <td>NaN</td>\n",
       "      <td>ms1</td>\n",
       "      <td>286.07417</td>\n",
       "      <td>286.07417</td>\n",
       "      <td>286.07417</td>\n",
       "      <td>5000</td>\n",
       "      <td>5000</td>\n",
       "      <td>0</td>\n",
       "      <td>...</td>\n",
       "      <td>NaN</td>\n",
       "      <td>eAbsolute</td>\n",
       "      <td>Positive</td>\n",
       "      <td>M+H</td>\n",
       "      <td>1.0</td>\n",
       "      <td>4.06</td>\n",
       "      <td>30.0</td>\n",
       "      <td>Individual</td>\n",
       "      <td>4.28</td>\n",
       "      <td>NaN</td>\n",
       "    </tr>\n",
       "    <tr>\n",
       "      <th>402</th>\n",
       "      <td>7Aminoflunitrazepam</td>\n",
       "      <td>TargetPeak</td>\n",
       "      <td>NaN</td>\n",
       "      <td>ms1</td>\n",
       "      <td>284.11937</td>\n",
       "      <td>284.11937</td>\n",
       "      <td>284.11937</td>\n",
       "      <td>5000</td>\n",
       "      <td>5000</td>\n",
       "      <td>0</td>\n",
       "      <td>...</td>\n",
       "      <td>NaN</td>\n",
       "      <td>eAbsolute</td>\n",
       "      <td>Positive</td>\n",
       "      <td>M+H</td>\n",
       "      <td>1.0</td>\n",
       "      <td>4.54</td>\n",
       "      <td>30.0</td>\n",
       "      <td>Individual</td>\n",
       "      <td>4.69</td>\n",
       "      <td>NaN</td>\n",
       "    </tr>\n",
       "    <tr>\n",
       "      <th>410</th>\n",
       "      <td>9Hydroxyrisperidone</td>\n",
       "      <td>TargetPeak</td>\n",
       "      <td>NaN</td>\n",
       "      <td>ms1</td>\n",
       "      <td>427.214</td>\n",
       "      <td>427.214</td>\n",
       "      <td>427.214</td>\n",
       "      <td>5000</td>\n",
       "      <td>5000</td>\n",
       "      <td>0</td>\n",
       "      <td>...</td>\n",
       "      <td>NaN</td>\n",
       "      <td>eAbsolute</td>\n",
       "      <td>Positive</td>\n",
       "      <td>M+H</td>\n",
       "      <td>1.0</td>\n",
       "      <td>4.46</td>\n",
       "      <td>30.0</td>\n",
       "      <td>Individual</td>\n",
       "      <td>4.63</td>\n",
       "      <td>NaN</td>\n",
       "    </tr>\n",
       "  </tbody>\n",
       "</table>\n",
       "<p>5 rows × 25 columns</p>\n",
       "</div>"
      ],
      "text/plain": [
       "                 Compound    Workflow Associated Target Peak MS Order  \\\n",
       "68   10hydroxycarbazepine  TargetPeak                    NaN      ms1   \n",
       "370   6Monoacetylmorphine  TargetPeak                    NaN      ms1   \n",
       "395      7Aminoclonazepam  TargetPeak                    NaN      ms1   \n",
       "402   7Aminoflunitrazepam  TargetPeak                    NaN      ms1   \n",
       "410   9Hydroxyrisperidone  TargetPeak                    NaN      ms1   \n",
       "\n",
       "    Precursor m/z Product m/z        m/z Height Threshold Area Threshold  \\\n",
       "68       255.1128    255.1128   255.1128             5000           5000   \n",
       "370     328.15433   328.15433  328.15433             5000           5000   \n",
       "395     286.07417   286.07417  286.07417             5000           5000   \n",
       "402     284.11937   284.11937  284.11937             5000           5000   \n",
       "410       427.214     427.214    427.214             5000           5000   \n",
       "\n",
       "    Collision Energy  ...  Target Ratio  Window Type  PeakPolarity  Adduct  \\\n",
       "68                 0  ...           NaN    eAbsolute      Positive     M+H   \n",
       "370                0  ...           NaN    eAbsolute      Positive     M+H   \n",
       "395                0  ...           NaN    eAbsolute      Positive     M+H   \n",
       "402                0  ...           NaN    eAbsolute      Positive     M+H   \n",
       "410                0  ...           NaN    eAbsolute      Positive     M+H   \n",
       "\n",
       "     Charge State  Retention Time Retention Time Window Integration Strategy  \\\n",
       "68            1.0            4.71                  30.0           Individual   \n",
       "370           1.0            3.26                  30.0           Individual   \n",
       "395           1.0            4.06                  30.0           Individual   \n",
       "402           1.0            4.54                  30.0           Individual   \n",
       "410           1.0            4.46                  30.0           Individual   \n",
       "\n",
       "    PTC Confirmed RT  SMILES  \n",
       "68              4.90     NaN  \n",
       "370             3.58     NaN  \n",
       "395             4.28     NaN  \n",
       "402             4.69     NaN  \n",
       "410             4.63     NaN  \n",
       "\n",
       "[5 rows x 25 columns]"
      ]
     },
     "execution_count": 19,
     "metadata": {},
     "output_type": "execute_result"
    }
   ],
   "source": [
    "missing_smiles_df.head()"
   ]
  },
  {
   "cell_type": "code",
   "execution_count": 20,
   "id": "eb75260b-db5f-4dc5-8a99-b5bedcc58135",
   "metadata": {},
   "outputs": [],
   "source": [
    "missing_smiles_df.to_csv('Data/check.csv', index=False)"
   ]
  },
  {
   "cell_type": "code",
   "execution_count": 22,
   "id": "eb932cb1-0a8c-4153-9e90-820b264fad7a",
   "metadata": {},
   "outputs": [],
   "source": [
    "from requests.adapters import HTTPAdapter\n",
    "from requests.packages.urllib3.util.retry import Retry\n",
    "\n",
    "def get_smiles_with_retry(compound_name):\n",
    "    url = f\"https://pubchem.ncbi.nlm.nih.gov/rest/pug/compound/name/{compound_name}/property/CanonicalSMILES/TXT\"\n",
    "    session = requests.Session()\n",
    "    retry = Retry(total=5, backoff_factor=1, status_forcelist=[429, 500, 502, 503, 504])\n",
    "    adapter = HTTPAdapter(max_retries=retry)\n",
    "    session.mount('http://', adapter)\n",
    "    session.mount('https://', adapter)\n",
    "    try:\n",
    "        response = session.get(url)\n",
    "        response.raise_for_status()\n",
    "        smiles = response.text.strip()\n",
    "        if smiles:\n",
    "            return smiles\n",
    "        else:\n",
    "            print(f\"No SMILES data found for compound: {compound_name}\")\n",
    "            return None\n",
    "    except requests.exceptions.HTTPError as http_err:\n",
    "        print(f\"HTTP error occurred for {compound_name}: {http_err}\")\n",
    "    except Exception as err:\n",
    "        print(f\"An error occurred for {compound_name}: {err}\")\n",
    "    return None"
   ]
  },
  {
   "cell_type": "markdown",
   "id": "10d3226d-ee1f-4641-8501-4963a83edd7b",
   "metadata": {},
   "source": [
    "# Experimenting with smiles2vec"
   ]
  },
  {
   "cell_type": "code",
   "execution_count": 36,
   "id": "67cdd68c-f08b-4391-a2cc-f8053cb0b943",
   "metadata": {},
   "outputs": [
    {
     "name": "stdout",
     "output_type": "stream",
     "text": [
      "        SMILES  Compound_1_Character_1  Compound_1_Character_2  \\\n",
      "0          CCO                       2                       2   \n",
      "1    CCN(CC)CC                       2                       2   \n",
      "2  CC(C)C(=O)O                       2                       2   \n",
      "3       CC(C)O                       2                       2   \n",
      "4      CC(=O)O                       2                       2   \n",
      "\n",
      "   Compound_1_Character_3  Compound_1_Character_4  Compound_1_Character_5  \\\n",
      "0                       6                       0                       0   \n",
      "1                       5                       9                       2   \n",
      "2                       9                       2                      10   \n",
      "3                       9                       2                      10   \n",
      "4                       9                      22                       6   \n",
      "\n",
      "   Compound_1_Character_6  Compound_1_Character_7  Compound_1_Character_8  \\\n",
      "0                       0                       0                       0   \n",
      "1                       2                      10                       2   \n",
      "2                       2                       9                      22   \n",
      "3                       6                       0                       0   \n",
      "4                      10                       6                       0   \n",
      "\n",
      "   Compound_1_Character_9  Compound_1_Character_10  Compound_1_Character_11  \n",
      "0                       0                        0                        0  \n",
      "1                       2                        0                        0  \n",
      "2                       6                       10                        6  \n",
      "3                       0                        0                        0  \n",
      "4                       0                        0                        0  \n"
     ]
    }
   ],
   "source": [
    "import numpy as np\n",
    "import pandas as pd\n",
    "from tensorflow.keras.preprocessing.sequence import pad_sequences\n",
    "from tensorflow.keras.preprocessing.text import Tokenizer\n",
    "\n",
    "class Smiles2Vec:\n",
    "    def __init__(self):\n",
    "        self.vocab = [\n",
    "            '(', ')', '-', '.', '1', '2', '3', '4', '5', '6', '7', '8', '9', '=', '@', 'B', 'C', 'F', 'H', 'I', 'N', \n",
    "            'O', 'P', 'S', '[', ']', 'a', 'b', 'c', 'd', 'e', 'g', 'h', 'i', 'l', 'n', 'o', 'p', 'r', 's', 't', 'u'\n",
    "        ]\n",
    "        self.tokenizer = Tokenizer(char_level=True)\n",
    "        self.tokenizer.fit_on_texts(self.vocab)\n",
    "        self.index_to_char = {index: char for char, index in self.tokenizer.word_index.items()}\n",
    "    \n",
    "    def sentence_to_vec(self, sentence):\n",
    "        # Convert a sentence into a list of character indices\n",
    "        return self.tokenizer.texts_to_sequences([sentence])[0]\n",
    "\n",
    "def encode_smiles(smiles_list):\n",
    "    \"\"\"\n",
    "    Encode a list of SMILES strings into feature vectors using a custom Smiles2Vec class.\n",
    "\n",
    "    Args:\n",
    "    smiles_list (list of str): List of SMILES strings.\n",
    "\n",
    "    Returns:\n",
    "    pd.DataFrame: DataFrame with SMILES encoded into vectors with meaningful feature names.\n",
    "    \"\"\"\n",
    "    # Initialize the Smiles2Vec encoder\n",
    "    s2v = Smiles2Vec()\n",
    "\n",
    "    # Convert the list of SMILES strings into feature vectors\n",
    "    smiles_features = [s2v.sentence_to_vec(smiles) for smiles in smiles_list]\n",
    "\n",
    "    # Pad sequences to ensure uniform length\n",
    "    maxlen = max(len(smiles) for smiles in smiles_list)  # Adjust maxlen based on the longest SMILES string\n",
    "    smiles_features_padded = pad_sequences(smiles_features, maxlen=maxlen, padding='post')\n",
    "    \n",
    "    # Create feature names based on the SMILES vocabulary and the compound it is encoding\n",
    "    feature_names = []\n",
    "    for i, smiles in enumerate(smiles_list):\n",
    "        compound_name = f'Compound_{i+1}'\n",
    "        for j in range(maxlen):\n",
    "            feature_names.append(f'{compound_name}_Character_{j+1}')\n",
    "    \n",
    "    # Convert to DataFrame\n",
    "    df_features = pd.DataFrame(smiles_features_padded, columns=feature_names[:smiles_features_padded.shape[1]])\n",
    "    \n",
    "    return df_features\n",
    "\n",
    "# Example usage with a DataFrame\n",
    "if __name__ == \"__main__\":\n",
    "    # Sample data\n",
    "    data = {\n",
    "        'SMILES': [\n",
    "            'CCO',\n",
    "            'CCN(CC)CC',\n",
    "            'CC(C)C(=O)O',\n",
    "            'CC(C)O',\n",
    "            'CC(=O)O',\n",
    "            # Add more SMILES strings as needed\n",
    "        ]\n",
    "    }\n",
    "    \n",
    "    df = pd.DataFrame(data)\n",
    "    \n",
    "    # Encode the SMILES column\n",
    "    smiles_encoded_df = encode_smiles(df['SMILES'].tolist())\n",
    "    \n",
    "    # Combine the original SMILES column with the encoded features\n",
    "    df_combined = pd.concat([df, smiles_encoded_df], axis=1)\n",
    "\n",
    "    print(df_combined)\n"
   ]
  },
  {
   "cell_type": "markdown",
   "id": "8e47452f-0ba3-4b03-bf09-a02f57789066",
   "metadata": {
    "jp-MarkdownHeadingCollapsed": true
   },
   "source": [
    "# Using a linkage"
   ]
  },
  {
   "cell_type": "code",
   "execution_count": 8,
   "id": "61fb861c-98c8-4688-a6fd-474cb10cbe90",
   "metadata": {},
   "outputs": [],
   "source": [
    "linked_df = pd.read_excel('Data/Modeling Data.xlsx')"
   ]
  },
  {
   "cell_type": "code",
   "execution_count": 9,
   "id": "3767b58c-17a4-4074-8308-34d5d6275a93",
   "metadata": {},
   "outputs": [
    {
     "data": {
      "text/html": [
       "<div>\n",
       "<style scoped>\n",
       "    .dataframe tbody tr th:only-of-type {\n",
       "        vertical-align: middle;\n",
       "    }\n",
       "\n",
       "    .dataframe tbody tr th {\n",
       "        vertical-align: top;\n",
       "    }\n",
       "\n",
       "    .dataframe thead th {\n",
       "        text-align: right;\n",
       "    }\n",
       "</style>\n",
       "<table border=\"1\" class=\"dataframe\">\n",
       "  <thead>\n",
       "    <tr style=\"text-align: right;\">\n",
       "      <th></th>\n",
       "      <th>LAB</th>\n",
       "      <th>Compound</th>\n",
       "      <th>RT</th>\n",
       "      <th>DrugClass</th>\n",
       "      <th>InChIKey</th>\n",
       "      <th>InChIKeyShort</th>\n",
       "      <th>SMILES</th>\n",
       "      <th>logD</th>\n",
       "      <th>logP</th>\n",
       "      <th>nO</th>\n",
       "      <th>nC</th>\n",
       "    </tr>\n",
       "  </thead>\n",
       "  <tbody>\n",
       "    <tr>\n",
       "      <th>0</th>\n",
       "      <td>Aarhus</td>\n",
       "      <td>1B-LSD</td>\n",
       "      <td>5.55</td>\n",
       "      <td>Indolalkylamines</td>\n",
       "      <td>SVRFNPSJPIDUBC-DYESRHJHSA-N</td>\n",
       "      <td>SVRFNPSJPIDUBC</td>\n",
       "      <td>C(CCC)(=O)N1C=C2C[C@H]3N(C[C@@H](C=C3C=3C=CC=C...</td>\n",
       "      <td>-0.706483</td>\n",
       "      <td>3.8197</td>\n",
       "      <td>2</td>\n",
       "      <td>24</td>\n",
       "    </tr>\n",
       "    <tr>\n",
       "      <th>1</th>\n",
       "      <td>Aarhus</td>\n",
       "      <td>1V-LSD</td>\n",
       "      <td>5.69</td>\n",
       "      <td>Indolalkylamines</td>\n",
       "      <td>GIIBVGJWUZNECE-XMSQKQJNSA-N</td>\n",
       "      <td>GIIBVGJWUZNECE</td>\n",
       "      <td>C(C)N(C(=O)[C@H]1CN([C@@H]2CC3=CN(C4=CC=CC(C2=...</td>\n",
       "      <td>-0.261915</td>\n",
       "      <td>4.2098</td>\n",
       "      <td>2</td>\n",
       "      <td>25</td>\n",
       "    </tr>\n",
       "    <tr>\n",
       "      <th>2</th>\n",
       "      <td>Aarhus</td>\n",
       "      <td>1cP-LSD</td>\n",
       "      <td>5.38</td>\n",
       "      <td>Indolalkylamines</td>\n",
       "      <td>RAFUPYYDHPFASC-DYESRHJHSA-N</td>\n",
       "      <td>RAFUPYYDHPFASC</td>\n",
       "      <td>CN1[C@](C2=C[C@@H](C(N(CC)CC)=O)C1)([H])CC3=CN...</td>\n",
       "      <td>-1.071751</td>\n",
       "      <td>3.4296</td>\n",
       "      <td>2</td>\n",
       "      <td>24</td>\n",
       "    </tr>\n",
       "    <tr>\n",
       "      <th>3</th>\n",
       "      <td>Aarhus</td>\n",
       "      <td>1p-LSD</td>\n",
       "      <td>5.21</td>\n",
       "      <td>Indolalkylamines</td>\n",
       "      <td>JSMQOVGXBIDBIE-OXQOHEQNSA-N</td>\n",
       "      <td>JSMQOVGXBIDBIE</td>\n",
       "      <td>O=C([C@H](C=C12)CN(C)[C@]2([H])CC3=CN(C(CC)=O)...</td>\n",
       "      <td>-1.151055</td>\n",
       "      <td>3.4296</td>\n",
       "      <td>2</td>\n",
       "      <td>23</td>\n",
       "    </tr>\n",
       "    <tr>\n",
       "      <th>4</th>\n",
       "      <td>Aarhus</td>\n",
       "      <td>2-CMC</td>\n",
       "      <td>2.67</td>\n",
       "      <td>Cathinones</td>\n",
       "      <td>UHVGPEBZWPKWNT-UHFFFAOYSA-N</td>\n",
       "      <td>UHVGPEBZWPKWNT</td>\n",
       "      <td>CNC(C(=O)c1ccccc1Cl)C</td>\n",
       "      <td>-1.020239</td>\n",
       "      <td>2.1306</td>\n",
       "      <td>1</td>\n",
       "      <td>10</td>\n",
       "    </tr>\n",
       "  </tbody>\n",
       "</table>\n",
       "</div>"
      ],
      "text/plain": [
       "      LAB Compound    RT         DrugClass                     InChIKey  \\\n",
       "0  Aarhus   1B-LSD  5.55  Indolalkylamines  SVRFNPSJPIDUBC-DYESRHJHSA-N   \n",
       "1  Aarhus   1V-LSD  5.69  Indolalkylamines  GIIBVGJWUZNECE-XMSQKQJNSA-N   \n",
       "2  Aarhus  1cP-LSD  5.38  Indolalkylamines  RAFUPYYDHPFASC-DYESRHJHSA-N   \n",
       "3  Aarhus   1p-LSD  5.21  Indolalkylamines  JSMQOVGXBIDBIE-OXQOHEQNSA-N   \n",
       "4  Aarhus    2-CMC  2.67        Cathinones  UHVGPEBZWPKWNT-UHFFFAOYSA-N   \n",
       "\n",
       "    InChIKeyShort                                             SMILES  \\\n",
       "0  SVRFNPSJPIDUBC  C(CCC)(=O)N1C=C2C[C@H]3N(C[C@@H](C=C3C=3C=CC=C...   \n",
       "1  GIIBVGJWUZNECE  C(C)N(C(=O)[C@H]1CN([C@@H]2CC3=CN(C4=CC=CC(C2=...   \n",
       "2  RAFUPYYDHPFASC  CN1[C@](C2=C[C@@H](C(N(CC)CC)=O)C1)([H])CC3=CN...   \n",
       "3  JSMQOVGXBIDBIE  O=C([C@H](C=C12)CN(C)[C@]2([H])CC3=CN(C(CC)=O)...   \n",
       "4  UHVGPEBZWPKWNT                              CNC(C(=O)c1ccccc1Cl)C   \n",
       "\n",
       "       logD    logP  nO  nC  \n",
       "0 -0.706483  3.8197   2  24  \n",
       "1 -0.261915  4.2098   2  25  \n",
       "2 -1.071751  3.4296   2  24  \n",
       "3 -1.151055  3.4296   2  23  \n",
       "4 -1.020239  2.1306   1  10  "
      ]
     },
     "execution_count": 9,
     "metadata": {},
     "output_type": "execute_result"
    }
   ],
   "source": [
    "linked_df.head()"
   ]
  },
  {
   "cell_type": "markdown",
   "id": "0d6ac23d-8399-4139-88eb-8b83f12857f7",
   "metadata": {},
   "source": [
    "We will need to clean the compound the same way"
   ]
  },
  {
   "cell_type": "code",
   "execution_count": 10,
   "id": "02fed733-cc9e-423c-8837-a137b3aca373",
   "metadata": {},
   "outputs": [],
   "source": [
    "linked_df = linked_df[['Compound', 'SMILES']]"
   ]
  },
  {
   "cell_type": "code",
   "execution_count": 12,
   "id": "2171e9f8-dc82-4cc7-9266-1d7d16e753e7",
   "metadata": {},
   "outputs": [
    {
     "data": {
      "text/html": [
       "<div>\n",
       "<style scoped>\n",
       "    .dataframe tbody tr th:only-of-type {\n",
       "        vertical-align: middle;\n",
       "    }\n",
       "\n",
       "    .dataframe tbody tr th {\n",
       "        vertical-align: top;\n",
       "    }\n",
       "\n",
       "    .dataframe thead th {\n",
       "        text-align: right;\n",
       "    }\n",
       "</style>\n",
       "<table border=\"1\" class=\"dataframe\">\n",
       "  <thead>\n",
       "    <tr style=\"text-align: right;\">\n",
       "      <th></th>\n",
       "      <th>Compound</th>\n",
       "      <th>SMILES</th>\n",
       "    </tr>\n",
       "  </thead>\n",
       "  <tbody>\n",
       "    <tr>\n",
       "      <th>0</th>\n",
       "      <td>1B-LSD</td>\n",
       "      <td>C(CCC)(=O)N1C=C2C[C@H]3N(C[C@@H](C=C3C=3C=CC=C...</td>\n",
       "    </tr>\n",
       "    <tr>\n",
       "      <th>1</th>\n",
       "      <td>1V-LSD</td>\n",
       "      <td>C(C)N(C(=O)[C@H]1CN([C@@H]2CC3=CN(C4=CC=CC(C2=...</td>\n",
       "    </tr>\n",
       "    <tr>\n",
       "      <th>2</th>\n",
       "      <td>1cP-LSD</td>\n",
       "      <td>CN1[C@](C2=C[C@@H](C(N(CC)CC)=O)C1)([H])CC3=CN...</td>\n",
       "    </tr>\n",
       "    <tr>\n",
       "      <th>3</th>\n",
       "      <td>1p-LSD</td>\n",
       "      <td>O=C([C@H](C=C12)CN(C)[C@]2([H])CC3=CN(C(CC)=O)...</td>\n",
       "    </tr>\n",
       "    <tr>\n",
       "      <th>4</th>\n",
       "      <td>2-CMC</td>\n",
       "      <td>CNC(C(=O)c1ccccc1Cl)C</td>\n",
       "    </tr>\n",
       "  </tbody>\n",
       "</table>\n",
       "</div>"
      ],
      "text/plain": [
       "  Compound                                             SMILES\n",
       "0   1B-LSD  C(CCC)(=O)N1C=C2C[C@H]3N(C[C@@H](C=C3C=3C=CC=C...\n",
       "1   1V-LSD  C(C)N(C(=O)[C@H]1CN([C@@H]2CC3=CN(C4=CC=CC(C2=...\n",
       "2  1cP-LSD  CN1[C@](C2=C[C@@H](C(N(CC)CC)=O)C1)([H])CC3=CN...\n",
       "3   1p-LSD  O=C([C@H](C=C12)CN(C)[C@]2([H])CC3=CN(C(CC)=O)...\n",
       "4    2-CMC                              CNC(C(=O)c1ccccc1Cl)C"
      ]
     },
     "execution_count": 12,
     "metadata": {},
     "output_type": "execute_result"
    }
   ],
   "source": [
    "linked_df.head()"
   ]
  },
  {
   "cell_type": "code",
   "execution_count": 15,
   "id": "f5b9b461-c062-4ab2-a0fa-2ef63f76d72c",
   "metadata": {},
   "outputs": [],
   "source": [
    "linked_df = utils.clean_data(linked_df)"
   ]
  },
  {
   "cell_type": "code",
   "execution_count": 16,
   "id": "4683a914-c7c3-4aeb-8e03-9b46abe8fc26",
   "metadata": {},
   "outputs": [
    {
     "data": {
      "text/html": [
       "<div>\n",
       "<style scoped>\n",
       "    .dataframe tbody tr th:only-of-type {\n",
       "        vertical-align: middle;\n",
       "    }\n",
       "\n",
       "    .dataframe tbody tr th {\n",
       "        vertical-align: top;\n",
       "    }\n",
       "\n",
       "    .dataframe thead th {\n",
       "        text-align: right;\n",
       "    }\n",
       "</style>\n",
       "<table border=\"1\" class=\"dataframe\">\n",
       "  <thead>\n",
       "    <tr style=\"text-align: right;\">\n",
       "      <th></th>\n",
       "      <th>Compound</th>\n",
       "      <th>SMILES</th>\n",
       "    </tr>\n",
       "  </thead>\n",
       "  <tbody>\n",
       "    <tr>\n",
       "      <th>0</th>\n",
       "      <td>1BLSD</td>\n",
       "      <td>C(CCC)(=O)N1C=C2C[C@H]3N(C[C@@H](C=C3C=3C=CC=C...</td>\n",
       "    </tr>\n",
       "    <tr>\n",
       "      <th>1</th>\n",
       "      <td>1VLSD</td>\n",
       "      <td>C(C)N(C(=O)[C@H]1CN([C@@H]2CC3=CN(C4=CC=CC(C2=...</td>\n",
       "    </tr>\n",
       "    <tr>\n",
       "      <th>2</th>\n",
       "      <td>1cPLSD</td>\n",
       "      <td>CN1[C@](C2=C[C@@H](C(N(CC)CC)=O)C1)([H])CC3=CN...</td>\n",
       "    </tr>\n",
       "    <tr>\n",
       "      <th>3</th>\n",
       "      <td>1pLSD</td>\n",
       "      <td>O=C([C@H](C=C12)CN(C)[C@]2([H])CC3=CN(C(CC)=O)...</td>\n",
       "    </tr>\n",
       "    <tr>\n",
       "      <th>4</th>\n",
       "      <td>2CMC</td>\n",
       "      <td>CNC(C(=O)c1ccccc1Cl)C</td>\n",
       "    </tr>\n",
       "  </tbody>\n",
       "</table>\n",
       "</div>"
      ],
      "text/plain": [
       "  Compound                                             SMILES\n",
       "0    1BLSD  C(CCC)(=O)N1C=C2C[C@H]3N(C[C@@H](C=C3C=3C=CC=C...\n",
       "1    1VLSD  C(C)N(C(=O)[C@H]1CN([C@@H]2CC3=CN(C4=CC=CC(C2=...\n",
       "2   1cPLSD  CN1[C@](C2=C[C@@H](C(N(CC)CC)=O)C1)([H])CC3=CN...\n",
       "3    1pLSD  O=C([C@H](C=C12)CN(C)[C@]2([H])CC3=CN(C(CC)=O)...\n",
       "4     2CMC                              CNC(C(=O)c1ccccc1Cl)C"
      ]
     },
     "execution_count": 16,
     "metadata": {},
     "output_type": "execute_result"
    }
   ],
   "source": [
    "linked_df.head()"
   ]
  },
  {
   "cell_type": "code",
   "execution_count": 30,
   "id": "b15dcefa-25b4-47ed-9be0-d76d21b23d46",
   "metadata": {},
   "outputs": [],
   "source": [
    "merged_df = pd.merge(df, linked_df, on=['Compound','SMILES'], how='left')"
   ]
  },
  {
   "cell_type": "code",
   "execution_count": 31,
   "id": "224274ce-724d-412c-8f2c-53f796f10d49",
   "metadata": {},
   "outputs": [
    {
     "data": {
      "text/html": [
       "<div>\n",
       "<style scoped>\n",
       "    .dataframe tbody tr th:only-of-type {\n",
       "        vertical-align: middle;\n",
       "    }\n",
       "\n",
       "    .dataframe tbody tr th {\n",
       "        vertical-align: top;\n",
       "    }\n",
       "\n",
       "    .dataframe thead th {\n",
       "        text-align: right;\n",
       "    }\n",
       "</style>\n",
       "<table border=\"1\" class=\"dataframe\">\n",
       "  <thead>\n",
       "    <tr style=\"text-align: right;\">\n",
       "      <th></th>\n",
       "      <th>Compound</th>\n",
       "      <th>Workflow</th>\n",
       "      <th>Associated Target Peak</th>\n",
       "      <th>MS Order</th>\n",
       "      <th>Precursor m/z</th>\n",
       "      <th>Product m/z</th>\n",
       "      <th>m/z</th>\n",
       "      <th>Height Threshold</th>\n",
       "      <th>Area Threshold</th>\n",
       "      <th>Collision Energy</th>\n",
       "      <th>...</th>\n",
       "      <th>Target Ratio</th>\n",
       "      <th>Window Type</th>\n",
       "      <th>PeakPolarity</th>\n",
       "      <th>Adduct</th>\n",
       "      <th>Charge State</th>\n",
       "      <th>Retention Time</th>\n",
       "      <th>Retention Time Window</th>\n",
       "      <th>Integration Strategy</th>\n",
       "      <th>PTC Confirmed RT</th>\n",
       "      <th>SMILES</th>\n",
       "    </tr>\n",
       "  </thead>\n",
       "  <tbody>\n",
       "    <tr>\n",
       "      <th>0</th>\n",
       "      <td>Ketamine</td>\n",
       "      <td>TargetPeak</td>\n",
       "      <td>NaN</td>\n",
       "      <td>ms1</td>\n",
       "      <td>238.09932</td>\n",
       "      <td>238.09932</td>\n",
       "      <td>238.09932</td>\n",
       "      <td>5000</td>\n",
       "      <td>5000</td>\n",
       "      <td>0</td>\n",
       "      <td>...</td>\n",
       "      <td>NaN</td>\n",
       "      <td>eAbsolute</td>\n",
       "      <td>Positive</td>\n",
       "      <td>M+H</td>\n",
       "      <td>1.0</td>\n",
       "      <td>3.77</td>\n",
       "      <td>30.0</td>\n",
       "      <td>Individual</td>\n",
       "      <td>3.99</td>\n",
       "      <td>CNC1(CCCCC1=O)C2=CC=CC=C2Cl</td>\n",
       "    </tr>\n",
       "    <tr>\n",
       "      <th>1</th>\n",
       "      <td>Ketamine</td>\n",
       "      <td>Fragment</td>\n",
       "      <td>1</td>\n",
       "      <td>ms2</td>\n",
       "      <td>238.09932</td>\n",
       "      <td>125.01541</td>\n",
       "      <td>125.01541</td>\n",
       "      <td>5000</td>\n",
       "      <td>0</td>\n",
       "      <td>0</td>\n",
       "      <td>...</td>\n",
       "      <td>NaN</td>\n",
       "      <td>eAbsolute</td>\n",
       "      <td>Positive</td>\n",
       "      <td>M+H</td>\n",
       "      <td>1.0</td>\n",
       "      <td>3.77</td>\n",
       "      <td>30.0</td>\n",
       "      <td>Individual</td>\n",
       "      <td>3.99</td>\n",
       "      <td>CNC1(CCCCC1=O)C2=CC=CC=C2Cl</td>\n",
       "    </tr>\n",
       "    <tr>\n",
       "      <th>2</th>\n",
       "      <td>Ketamine</td>\n",
       "      <td>Fragment</td>\n",
       "      <td>1</td>\n",
       "      <td>ms2</td>\n",
       "      <td>238.09932</td>\n",
       "      <td>179.06221</td>\n",
       "      <td>179.06221</td>\n",
       "      <td>5000</td>\n",
       "      <td>0</td>\n",
       "      <td>0</td>\n",
       "      <td>...</td>\n",
       "      <td>NaN</td>\n",
       "      <td>eAbsolute</td>\n",
       "      <td>Positive</td>\n",
       "      <td>M+H</td>\n",
       "      <td>1.0</td>\n",
       "      <td>3.77</td>\n",
       "      <td>30.0</td>\n",
       "      <td>Individual</td>\n",
       "      <td>3.99</td>\n",
       "      <td>CNC1(CCCCC1=O)C2=CC=CC=C2Cl</td>\n",
       "    </tr>\n",
       "    <tr>\n",
       "      <th>3</th>\n",
       "      <td>Ketamine</td>\n",
       "      <td>Fragment</td>\n",
       "      <td>1</td>\n",
       "      <td>ms2</td>\n",
       "      <td>238.09932</td>\n",
       "      <td>207.05737</td>\n",
       "      <td>207.05737</td>\n",
       "      <td>5000</td>\n",
       "      <td>0</td>\n",
       "      <td>0</td>\n",
       "      <td>...</td>\n",
       "      <td>NaN</td>\n",
       "      <td>eAbsolute</td>\n",
       "      <td>Positive</td>\n",
       "      <td>M+H</td>\n",
       "      <td>1.0</td>\n",
       "      <td>3.77</td>\n",
       "      <td>30.0</td>\n",
       "      <td>Individual</td>\n",
       "      <td>3.99</td>\n",
       "      <td>CNC1(CCCCC1=O)C2=CC=CC=C2Cl</td>\n",
       "    </tr>\n",
       "    <tr>\n",
       "      <th>4</th>\n",
       "      <td>Ketamine</td>\n",
       "      <td>Fragment</td>\n",
       "      <td>1</td>\n",
       "      <td>ms2</td>\n",
       "      <td>238.09932</td>\n",
       "      <td>220.08827</td>\n",
       "      <td>220.08827</td>\n",
       "      <td>5000</td>\n",
       "      <td>0</td>\n",
       "      <td>0</td>\n",
       "      <td>...</td>\n",
       "      <td>NaN</td>\n",
       "      <td>eAbsolute</td>\n",
       "      <td>Positive</td>\n",
       "      <td>M+H</td>\n",
       "      <td>1.0</td>\n",
       "      <td>3.77</td>\n",
       "      <td>30.0</td>\n",
       "      <td>Individual</td>\n",
       "      <td>3.99</td>\n",
       "      <td>CNC1(CCCCC1=O)C2=CC=CC=C2Cl</td>\n",
       "    </tr>\n",
       "  </tbody>\n",
       "</table>\n",
       "<p>5 rows × 25 columns</p>\n",
       "</div>"
      ],
      "text/plain": [
       "   Compound    Workflow Associated Target Peak MS Order Precursor m/z  \\\n",
       "0  Ketamine  TargetPeak                    NaN      ms1     238.09932   \n",
       "1  Ketamine    Fragment                      1      ms2     238.09932   \n",
       "2  Ketamine    Fragment                      1      ms2     238.09932   \n",
       "3  Ketamine    Fragment                      1      ms2     238.09932   \n",
       "4  Ketamine    Fragment                      1      ms2     238.09932   \n",
       "\n",
       "  Product m/z        m/z Height Threshold Area Threshold Collision Energy  \\\n",
       "0   238.09932  238.09932             5000           5000                0   \n",
       "1   125.01541  125.01541             5000              0                0   \n",
       "2   179.06221  179.06221             5000              0                0   \n",
       "3   207.05737  207.05737             5000              0                0   \n",
       "4   220.08827  220.08827             5000              0                0   \n",
       "\n",
       "   ...  Target Ratio  Window Type  PeakPolarity  Adduct  Charge State  \\\n",
       "0  ...           NaN    eAbsolute      Positive     M+H           1.0   \n",
       "1  ...           NaN    eAbsolute      Positive     M+H           1.0   \n",
       "2  ...           NaN    eAbsolute      Positive     M+H           1.0   \n",
       "3  ...           NaN    eAbsolute      Positive     M+H           1.0   \n",
       "4  ...           NaN    eAbsolute      Positive     M+H           1.0   \n",
       "\n",
       "   Retention Time Retention Time Window Integration Strategy PTC Confirmed RT  \\\n",
       "0            3.77                  30.0           Individual             3.99   \n",
       "1            3.77                  30.0           Individual             3.99   \n",
       "2            3.77                  30.0           Individual             3.99   \n",
       "3            3.77                  30.0           Individual             3.99   \n",
       "4            3.77                  30.0           Individual             3.99   \n",
       "\n",
       "                        SMILES  \n",
       "0  CNC1(CCCCC1=O)C2=CC=CC=C2Cl  \n",
       "1  CNC1(CCCCC1=O)C2=CC=CC=C2Cl  \n",
       "2  CNC1(CCCCC1=O)C2=CC=CC=C2Cl  \n",
       "3  CNC1(CCCCC1=O)C2=CC=CC=C2Cl  \n",
       "4  CNC1(CCCCC1=O)C2=CC=CC=C2Cl  \n",
       "\n",
       "[5 rows x 25 columns]"
      ]
     },
     "execution_count": 31,
     "metadata": {},
     "output_type": "execute_result"
    }
   ],
   "source": [
    "merged_df.head()"
   ]
  },
  {
   "cell_type": "code",
   "execution_count": 32,
   "id": "a8e5980a-117f-4903-baa7-3ff91447dc7d",
   "metadata": {},
   "outputs": [
    {
     "data": {
      "text/plain": [
       "5441"
      ]
     },
     "execution_count": 32,
     "metadata": {},
     "output_type": "execute_result"
    }
   ],
   "source": [
    "merged_df['SMILES'].isnull().sum()"
   ]
  },
  {
   "cell_type": "code",
   "execution_count": 33,
   "id": "1c936812-4c31-43d8-92a9-a610e76255e4",
   "metadata": {},
   "outputs": [
    {
     "data": {
      "text/plain": [
       "(10152, 25)"
      ]
     },
     "execution_count": 33,
     "metadata": {},
     "output_type": "execute_result"
    }
   ],
   "source": [
    "merged_df.shape"
   ]
  },
  {
   "cell_type": "code",
   "execution_count": 34,
   "id": "fef29632-d19e-457a-86fc-21f926a8bcd4",
   "metadata": {},
   "outputs": [
    {
     "data": {
      "text/plain": [
       "0              1BLSD\n",
       "1              1VLSD\n",
       "2             1cPLSD\n",
       "3              1pLSD\n",
       "4               2CMC\n",
       "            ...     \n",
       "4765       Pyrazolam\n",
       "4766    Pyrovalerone\n",
       "4767         Ro54864\n",
       "4768          STS135\n",
       "4769       Tofisopam\n",
       "Name: Compound, Length: 4770, dtype: object"
      ]
     },
     "execution_count": 34,
     "metadata": {},
     "output_type": "execute_result"
    }
   ],
   "source": [
    "linked_df['Compound']"
   ]
  },
  {
   "cell_type": "code",
   "execution_count": 35,
   "id": "9df22309-d678-46a1-b5cc-d42fbac9311e",
   "metadata": {},
   "outputs": [
    {
     "data": {
      "text/plain": [
       "0        Ketamine\n",
       "1        Ketamine\n",
       "2        Ketamine\n",
       "3        Ketamine\n",
       "4        Ketamine\n",
       "           ...   \n",
       "10048         NaN\n",
       "10049         NaN\n",
       "10050         NaN\n",
       "10051         NaN\n",
       "10052         NaN\n",
       "Name: Compound, Length: 10053, dtype: object"
      ]
     },
     "execution_count": 35,
     "metadata": {},
     "output_type": "execute_result"
    }
   ],
   "source": [
    "df['Compound']"
   ]
  },
  {
   "cell_type": "code",
   "execution_count": 36,
   "id": "076da17c-ef5b-4de7-a4c8-03fba3a1e883",
   "metadata": {},
   "outputs": [
    {
     "data": {
      "text/plain": [
       "1742"
      ]
     },
     "execution_count": 36,
     "metadata": {},
     "output_type": "execute_result"
    }
   ],
   "source": [
    "df['Compound'].isnull().sum()"
   ]
  },
  {
   "cell_type": "code",
   "execution_count": 37,
   "id": "3defcc1f-26ef-4ba5-aa57-62d081d61282",
   "metadata": {},
   "outputs": [],
   "source": [
    "missing_compounds = df[df['Compound'].isnull()]"
   ]
  },
  {
   "cell_type": "code",
   "execution_count": 38,
   "id": "5bb9c3c9-891a-458b-97c4-c569313d4bf1",
   "metadata": {},
   "outputs": [
    {
     "data": {
      "text/html": [
       "<div>\n",
       "<style scoped>\n",
       "    .dataframe tbody tr th:only-of-type {\n",
       "        vertical-align: middle;\n",
       "    }\n",
       "\n",
       "    .dataframe tbody tr th {\n",
       "        vertical-align: top;\n",
       "    }\n",
       "\n",
       "    .dataframe thead th {\n",
       "        text-align: right;\n",
       "    }\n",
       "</style>\n",
       "<table border=\"1\" class=\"dataframe\">\n",
       "  <thead>\n",
       "    <tr style=\"text-align: right;\">\n",
       "      <th></th>\n",
       "      <th>Compound</th>\n",
       "      <th>Workflow</th>\n",
       "      <th>Associated Target Peak</th>\n",
       "      <th>MS Order</th>\n",
       "      <th>Precursor m/z</th>\n",
       "      <th>Product m/z</th>\n",
       "      <th>m/z</th>\n",
       "      <th>Height Threshold</th>\n",
       "      <th>Area Threshold</th>\n",
       "      <th>Collision Energy</th>\n",
       "      <th>...</th>\n",
       "      <th>Target Ratio</th>\n",
       "      <th>Window Type</th>\n",
       "      <th>PeakPolarity</th>\n",
       "      <th>Adduct</th>\n",
       "      <th>Charge State</th>\n",
       "      <th>Retention Time</th>\n",
       "      <th>Retention Time Window</th>\n",
       "      <th>Integration Strategy</th>\n",
       "      <th>PTC Confirmed RT</th>\n",
       "      <th>SMILES</th>\n",
       "    </tr>\n",
       "  </thead>\n",
       "  <tbody>\n",
       "    <tr>\n",
       "      <th>8311</th>\n",
       "      <td>NaN</td>\n",
       "      <td>NaN</td>\n",
       "      <td>NaN</td>\n",
       "      <td>NaN</td>\n",
       "      <td>NaN</td>\n",
       "      <td>NaN</td>\n",
       "      <td>NaN</td>\n",
       "      <td>NaN</td>\n",
       "      <td>NaN</td>\n",
       "      <td>NaN</td>\n",
       "      <td>...</td>\n",
       "      <td>NaN</td>\n",
       "      <td>NaN</td>\n",
       "      <td>NaN</td>\n",
       "      <td>NaN</td>\n",
       "      <td>NaN</td>\n",
       "      <td>NaN</td>\n",
       "      <td>NaN</td>\n",
       "      <td>NaN</td>\n",
       "      <td>NaN</td>\n",
       "      <td>NaN</td>\n",
       "    </tr>\n",
       "    <tr>\n",
       "      <th>8312</th>\n",
       "      <td>NaN</td>\n",
       "      <td>Compound Formula</td>\n",
       "      <td>Cas Number</td>\n",
       "      <td>Category</td>\n",
       "      <td>Compound Type</td>\n",
       "      <td>Internal Standard Concentration</td>\n",
       "      <td>ISTD Protein Name</td>\n",
       "      <td>ISTD Compound Name</td>\n",
       "      <td>Ionization Field</td>\n",
       "      <td>Compound Group</td>\n",
       "      <td>...</td>\n",
       "      <td>NaN</td>\n",
       "      <td>NaN</td>\n",
       "      <td>NaN</td>\n",
       "      <td>NaN</td>\n",
       "      <td>NaN</td>\n",
       "      <td>NaN</td>\n",
       "      <td>NaN</td>\n",
       "      <td>NaN</td>\n",
       "      <td>NaN</td>\n",
       "      <td>NaN</td>\n",
       "    </tr>\n",
       "    <tr>\n",
       "      <th>8313</th>\n",
       "      <td>NaN</td>\n",
       "      <td>C13H16ClNO</td>\n",
       "      <td>NaN</td>\n",
       "      <td>NaN</td>\n",
       "      <td>eTargetCompound</td>\n",
       "      <td>0</td>\n",
       "      <td>NaN</td>\n",
       "      <td>NaN</td>\n",
       "      <td>ESI</td>\n",
       "      <td>NaN</td>\n",
       "      <td>...</td>\n",
       "      <td>NaN</td>\n",
       "      <td>NaN</td>\n",
       "      <td>NaN</td>\n",
       "      <td>NaN</td>\n",
       "      <td>NaN</td>\n",
       "      <td>NaN</td>\n",
       "      <td>NaN</td>\n",
       "      <td>NaN</td>\n",
       "      <td>NaN</td>\n",
       "      <td>NaN</td>\n",
       "    </tr>\n",
       "    <tr>\n",
       "      <th>8314</th>\n",
       "      <td>NaN</td>\n",
       "      <td>C16H21NO3</td>\n",
       "      <td>NaN</td>\n",
       "      <td>NaN</td>\n",
       "      <td>eTargetCompound</td>\n",
       "      <td>0</td>\n",
       "      <td>NaN</td>\n",
       "      <td>NaN</td>\n",
       "      <td>ESI</td>\n",
       "      <td>NaN</td>\n",
       "      <td>...</td>\n",
       "      <td>NaN</td>\n",
       "      <td>NaN</td>\n",
       "      <td>NaN</td>\n",
       "      <td>NaN</td>\n",
       "      <td>NaN</td>\n",
       "      <td>NaN</td>\n",
       "      <td>NaN</td>\n",
       "      <td>NaN</td>\n",
       "      <td>NaN</td>\n",
       "      <td>NaN</td>\n",
       "    </tr>\n",
       "    <tr>\n",
       "      <th>8315</th>\n",
       "      <td>NaN</td>\n",
       "      <td>C11H16N2O</td>\n",
       "      <td>NaN</td>\n",
       "      <td>NaN</td>\n",
       "      <td>eTargetCompound</td>\n",
       "      <td>0</td>\n",
       "      <td>NaN</td>\n",
       "      <td>NaN</td>\n",
       "      <td>ESI</td>\n",
       "      <td>NaN</td>\n",
       "      <td>...</td>\n",
       "      <td>NaN</td>\n",
       "      <td>NaN</td>\n",
       "      <td>NaN</td>\n",
       "      <td>NaN</td>\n",
       "      <td>NaN</td>\n",
       "      <td>NaN</td>\n",
       "      <td>NaN</td>\n",
       "      <td>NaN</td>\n",
       "      <td>NaN</td>\n",
       "      <td>NaN</td>\n",
       "    </tr>\n",
       "  </tbody>\n",
       "</table>\n",
       "<p>5 rows × 25 columns</p>\n",
       "</div>"
      ],
      "text/plain": [
       "     Compound          Workflow Associated Target Peak  MS Order  \\\n",
       "8311      NaN               NaN                    NaN       NaN   \n",
       "8312      NaN  Compound Formula             Cas Number  Category   \n",
       "8313      NaN        C13H16ClNO                    NaN       NaN   \n",
       "8314      NaN         C16H21NO3                    NaN       NaN   \n",
       "8315      NaN         C11H16N2O                    NaN       NaN   \n",
       "\n",
       "        Precursor m/z                      Product m/z                m/z  \\\n",
       "8311              NaN                              NaN                NaN   \n",
       "8312    Compound Type  Internal Standard Concentration  ISTD Protein Name   \n",
       "8313  eTargetCompound                                0                NaN   \n",
       "8314  eTargetCompound                                0                NaN   \n",
       "8315  eTargetCompound                                0                NaN   \n",
       "\n",
       "        Height Threshold    Area Threshold Collision Energy  ...  \\\n",
       "8311                 NaN               NaN              NaN  ...   \n",
       "8312  ISTD Compound Name  Ionization Field   Compound Group  ...   \n",
       "8313                 NaN               ESI              NaN  ...   \n",
       "8314                 NaN               ESI              NaN  ...   \n",
       "8315                 NaN               ESI              NaN  ...   \n",
       "\n",
       "      Target Ratio  Window Type  PeakPolarity  Adduct  Charge State  \\\n",
       "8311           NaN          NaN           NaN     NaN           NaN   \n",
       "8312           NaN          NaN           NaN     NaN           NaN   \n",
       "8313           NaN          NaN           NaN     NaN           NaN   \n",
       "8314           NaN          NaN           NaN     NaN           NaN   \n",
       "8315           NaN          NaN           NaN     NaN           NaN   \n",
       "\n",
       "      Retention Time Retention Time Window Integration Strategy  \\\n",
       "8311             NaN                   NaN                  NaN   \n",
       "8312             NaN                   NaN                  NaN   \n",
       "8313             NaN                   NaN                  NaN   \n",
       "8314             NaN                   NaN                  NaN   \n",
       "8315             NaN                   NaN                  NaN   \n",
       "\n",
       "     PTC Confirmed RT  SMILES  \n",
       "8311              NaN     NaN  \n",
       "8312              NaN     NaN  \n",
       "8313              NaN     NaN  \n",
       "8314              NaN     NaN  \n",
       "8315              NaN     NaN  \n",
       "\n",
       "[5 rows x 25 columns]"
      ]
     },
     "execution_count": 38,
     "metadata": {},
     "output_type": "execute_result"
    }
   ],
   "source": [
    "missing_compounds.head()"
   ]
  },
  {
   "cell_type": "markdown",
   "id": "d4691ece-cd5d-4761-9b4f-1aa8b5105c04",
   "metadata": {},
   "source": [
    "Note that if you review the data this is genuinely missing - need to ask about it"
   ]
  },
  {
   "cell_type": "code",
   "execution_count": 39,
   "id": "d813e8d9-08d7-42e8-a9db-72778ee450de",
   "metadata": {},
   "outputs": [],
   "source": [
    "df.dropna(subset=['Compound'], inplace=True)"
   ]
  },
  {
   "cell_type": "code",
   "execution_count": 41,
   "id": "a50108d3-8dc2-4739-b124-52b2591f51a1",
   "metadata": {},
   "outputs": [
    {
     "data": {
      "text/plain": [
       "(8311, 25)"
      ]
     },
     "execution_count": 41,
     "metadata": {},
     "output_type": "execute_result"
    }
   ],
   "source": [
    "df.shape"
   ]
  },
  {
   "cell_type": "code",
   "execution_count": 42,
   "id": "cfdf75b1-6211-4404-8511-afbb09cb71aa",
   "metadata": {},
   "outputs": [
    {
     "data": {
      "text/plain": [
       "3699"
      ]
     },
     "execution_count": 42,
     "metadata": {},
     "output_type": "execute_result"
    }
   ],
   "source": [
    "df['SMILES'].isnull().sum()"
   ]
  },
  {
   "cell_type": "code",
   "execution_count": 43,
   "id": "d824be84-1d39-4a39-b2c8-89ffdf7d8559",
   "metadata": {},
   "outputs": [
    {
     "data": {
      "text/plain": [
       "0.44507279509084346"
      ]
     },
     "execution_count": 43,
     "metadata": {},
     "output_type": "execute_result"
    }
   ],
   "source": [
    "3699/8311"
   ]
  },
  {
   "cell_type": "code",
   "execution_count": 45,
   "id": "40afbf3a-3e58-4a65-ae2f-1cfff2a09b7c",
   "metadata": {},
   "outputs": [
    {
     "data": {
      "text/plain": [
       "2434"
      ]
     },
     "execution_count": 45,
     "metadata": {},
     "output_type": "execute_result"
    }
   ],
   "source": [
    "len(linked_df['Compound'].unique())"
   ]
  },
  {
   "cell_type": "code",
   "execution_count": 46,
   "id": "2c2bbb02-7082-4be6-963b-226128be3b26",
   "metadata": {},
   "outputs": [
    {
     "data": {
      "text/plain": [
       "1739"
      ]
     },
     "execution_count": 46,
     "metadata": {},
     "output_type": "execute_result"
    }
   ],
   "source": [
    "len(df['Compound'].unique())"
   ]
  },
  {
   "cell_type": "code",
   "execution_count": 47,
   "id": "c6297eab-7b13-4464-a79c-970dc2a2fc7d",
   "metadata": {},
   "outputs": [],
   "source": [
    "no_smiles_df = df[df['SMILES'].isnull()]"
   ]
  },
  {
   "cell_type": "code",
   "execution_count": 48,
   "id": "02d9879b-f161-41f8-8c9f-26c798a3a0aa",
   "metadata": {},
   "outputs": [
    {
     "data": {
      "text/html": [
       "<div>\n",
       "<style scoped>\n",
       "    .dataframe tbody tr th:only-of-type {\n",
       "        vertical-align: middle;\n",
       "    }\n",
       "\n",
       "    .dataframe tbody tr th {\n",
       "        vertical-align: top;\n",
       "    }\n",
       "\n",
       "    .dataframe thead th {\n",
       "        text-align: right;\n",
       "    }\n",
       "</style>\n",
       "<table border=\"1\" class=\"dataframe\">\n",
       "  <thead>\n",
       "    <tr style=\"text-align: right;\">\n",
       "      <th></th>\n",
       "      <th>Compound</th>\n",
       "      <th>Workflow</th>\n",
       "      <th>Associated Target Peak</th>\n",
       "      <th>MS Order</th>\n",
       "      <th>Precursor m/z</th>\n",
       "      <th>Product m/z</th>\n",
       "      <th>m/z</th>\n",
       "      <th>Height Threshold</th>\n",
       "      <th>Area Threshold</th>\n",
       "      <th>Collision Energy</th>\n",
       "      <th>...</th>\n",
       "      <th>Target Ratio</th>\n",
       "      <th>Window Type</th>\n",
       "      <th>PeakPolarity</th>\n",
       "      <th>Adduct</th>\n",
       "      <th>Charge State</th>\n",
       "      <th>Retention Time</th>\n",
       "      <th>Retention Time Window</th>\n",
       "      <th>Integration Strategy</th>\n",
       "      <th>PTC Confirmed RT</th>\n",
       "      <th>SMILES</th>\n",
       "    </tr>\n",
       "  </thead>\n",
       "  <tbody>\n",
       "    <tr>\n",
       "      <th>6</th>\n",
       "      <td>34Methylene dioxy pyrovalerone</td>\n",
       "      <td>TargetPeak</td>\n",
       "      <td>NaN</td>\n",
       "      <td>ms1</td>\n",
       "      <td>276.15942</td>\n",
       "      <td>276.15942</td>\n",
       "      <td>276.15942</td>\n",
       "      <td>5000</td>\n",
       "      <td>5000</td>\n",
       "      <td>0</td>\n",
       "      <td>...</td>\n",
       "      <td>NaN</td>\n",
       "      <td>eAbsolute</td>\n",
       "      <td>Positive</td>\n",
       "      <td>M+H</td>\n",
       "      <td>1.0</td>\n",
       "      <td>4.35</td>\n",
       "      <td>30.0</td>\n",
       "      <td>Individual</td>\n",
       "      <td>NaN</td>\n",
       "      <td>NaN</td>\n",
       "    </tr>\n",
       "    <tr>\n",
       "      <th>7</th>\n",
       "      <td>34Methylene dioxy pyrovalerone</td>\n",
       "      <td>Fragment</td>\n",
       "      <td>1</td>\n",
       "      <td>ms2</td>\n",
       "      <td>276.15942</td>\n",
       "      <td>126.12778</td>\n",
       "      <td>126.12778</td>\n",
       "      <td>5000</td>\n",
       "      <td>0</td>\n",
       "      <td>0</td>\n",
       "      <td>...</td>\n",
       "      <td>NaN</td>\n",
       "      <td>eAbsolute</td>\n",
       "      <td>Positive</td>\n",
       "      <td>M+H</td>\n",
       "      <td>1.0</td>\n",
       "      <td>4.35</td>\n",
       "      <td>30.0</td>\n",
       "      <td>Individual</td>\n",
       "      <td>NaN</td>\n",
       "      <td>NaN</td>\n",
       "    </tr>\n",
       "    <tr>\n",
       "      <th>8</th>\n",
       "      <td>34Methylene dioxy pyrovalerone</td>\n",
       "      <td>Fragment</td>\n",
       "      <td>1</td>\n",
       "      <td>ms2</td>\n",
       "      <td>276.15942</td>\n",
       "      <td>135.04404</td>\n",
       "      <td>135.04404</td>\n",
       "      <td>5000</td>\n",
       "      <td>0</td>\n",
       "      <td>0</td>\n",
       "      <td>...</td>\n",
       "      <td>NaN</td>\n",
       "      <td>eAbsolute</td>\n",
       "      <td>Positive</td>\n",
       "      <td>M+H</td>\n",
       "      <td>1.0</td>\n",
       "      <td>4.35</td>\n",
       "      <td>30.0</td>\n",
       "      <td>Individual</td>\n",
       "      <td>NaN</td>\n",
       "      <td>NaN</td>\n",
       "    </tr>\n",
       "    <tr>\n",
       "      <th>9</th>\n",
       "      <td>34Methylene dioxy pyrovalerone</td>\n",
       "      <td>Fragment</td>\n",
       "      <td>1</td>\n",
       "      <td>ms2</td>\n",
       "      <td>276.15942</td>\n",
       "      <td>175.07532</td>\n",
       "      <td>175.07532</td>\n",
       "      <td>5000</td>\n",
       "      <td>0</td>\n",
       "      <td>0</td>\n",
       "      <td>...</td>\n",
       "      <td>NaN</td>\n",
       "      <td>eAbsolute</td>\n",
       "      <td>Positive</td>\n",
       "      <td>M+H</td>\n",
       "      <td>1.0</td>\n",
       "      <td>4.35</td>\n",
       "      <td>30.0</td>\n",
       "      <td>Individual</td>\n",
       "      <td>NaN</td>\n",
       "      <td>NaN</td>\n",
       "    </tr>\n",
       "    <tr>\n",
       "      <th>10</th>\n",
       "      <td>34Methylene dioxy pyrovalerone</td>\n",
       "      <td>Fragment</td>\n",
       "      <td>1</td>\n",
       "      <td>ms2</td>\n",
       "      <td>276.15942</td>\n",
       "      <td>205.08583</td>\n",
       "      <td>205.08583</td>\n",
       "      <td>5000</td>\n",
       "      <td>0</td>\n",
       "      <td>0</td>\n",
       "      <td>...</td>\n",
       "      <td>NaN</td>\n",
       "      <td>eAbsolute</td>\n",
       "      <td>Positive</td>\n",
       "      <td>M+H</td>\n",
       "      <td>1.0</td>\n",
       "      <td>4.35</td>\n",
       "      <td>30.0</td>\n",
       "      <td>Individual</td>\n",
       "      <td>NaN</td>\n",
       "      <td>NaN</td>\n",
       "    </tr>\n",
       "  </tbody>\n",
       "</table>\n",
       "<p>5 rows × 25 columns</p>\n",
       "</div>"
      ],
      "text/plain": [
       "                          Compound    Workflow Associated Target Peak  \\\n",
       "6   34Methylene dioxy pyrovalerone  TargetPeak                    NaN   \n",
       "7   34Methylene dioxy pyrovalerone    Fragment                      1   \n",
       "8   34Methylene dioxy pyrovalerone    Fragment                      1   \n",
       "9   34Methylene dioxy pyrovalerone    Fragment                      1   \n",
       "10  34Methylene dioxy pyrovalerone    Fragment                      1   \n",
       "\n",
       "   MS Order Precursor m/z Product m/z        m/z Height Threshold  \\\n",
       "6       ms1     276.15942   276.15942  276.15942             5000   \n",
       "7       ms2     276.15942   126.12778  126.12778             5000   \n",
       "8       ms2     276.15942   135.04404  135.04404             5000   \n",
       "9       ms2     276.15942   175.07532  175.07532             5000   \n",
       "10      ms2     276.15942   205.08583  205.08583             5000   \n",
       "\n",
       "   Area Threshold Collision Energy  ...  Target Ratio  Window Type  \\\n",
       "6            5000                0  ...           NaN    eAbsolute   \n",
       "7               0                0  ...           NaN    eAbsolute   \n",
       "8               0                0  ...           NaN    eAbsolute   \n",
       "9               0                0  ...           NaN    eAbsolute   \n",
       "10              0                0  ...           NaN    eAbsolute   \n",
       "\n",
       "    PeakPolarity  Adduct  Charge State  Retention Time Retention Time Window  \\\n",
       "6       Positive     M+H           1.0            4.35                  30.0   \n",
       "7       Positive     M+H           1.0            4.35                  30.0   \n",
       "8       Positive     M+H           1.0            4.35                  30.0   \n",
       "9       Positive     M+H           1.0            4.35                  30.0   \n",
       "10      Positive     M+H           1.0            4.35                  30.0   \n",
       "\n",
       "   Integration Strategy PTC Confirmed RT  SMILES  \n",
       "6            Individual              NaN     NaN  \n",
       "7            Individual              NaN     NaN  \n",
       "8            Individual              NaN     NaN  \n",
       "9            Individual              NaN     NaN  \n",
       "10           Individual              NaN     NaN  \n",
       "\n",
       "[5 rows x 25 columns]"
      ]
     },
     "execution_count": 48,
     "metadata": {},
     "output_type": "execute_result"
    }
   ],
   "source": [
    "no_smiles_df.head()"
   ]
  },
  {
   "cell_type": "code",
   "execution_count": 49,
   "id": "a2246603-8b09-4b79-908d-eb4c94d9fd24",
   "metadata": {},
   "outputs": [
    {
     "data": {
      "text/plain": [
       "841"
      ]
     },
     "execution_count": 49,
     "metadata": {},
     "output_type": "execute_result"
    }
   ],
   "source": [
    "len(no_smiles_df['Compound'].unique())"
   ]
  },
  {
   "cell_type": "code",
   "execution_count": 50,
   "id": "997cd8b9-299e-48bf-9606-a6138f864823",
   "metadata": {},
   "outputs": [
    {
     "name": "stdout",
     "output_type": "stream",
     "text": [
      "SMILES for 3,4-Methylenedioxy-N-methylamphetamine: CC(CC1=CC2=C(C=C1)OCO2)NC\n"
     ]
    }
   ],
   "source": [
    "import pubchempy as pcp\n",
    "\n",
    "# Original chemical name\n",
    "compound_name = '3,4-Methylenedioxy-N-methylamphetamine'\n",
    "\n",
    "# Search compound by name\n",
    "compound = pcp.get_compounds(compound_name, 'name')\n",
    "\n",
    "if compound:\n",
    "    smiles = compound[0].canonical_smiles\n",
    "    print(f\"SMILES for {compound_name}: {smiles}\")\n",
    "else:\n",
    "    print(f\"Compound {compound_name} not found.\")"
   ]
  },
  {
   "cell_type": "code",
   "execution_count": 58,
   "id": "6fdcf73f-99a9-47ab-b680-b0f7291e65d5",
   "metadata": {},
   "outputs": [],
   "source": [
    "other_df = pd.read_csv('libraries/Training_Database_with_fbs_rt.csv', skiprows=5)"
   ]
  },
  {
   "cell_type": "code",
   "execution_count": 59,
   "id": "211e7efc-af15-4ed4-8971-12c46052adb3",
   "metadata": {},
   "outputs": [
    {
     "data": {
      "text/html": [
       "<div>\n",
       "<style scoped>\n",
       "    .dataframe tbody tr th:only-of-type {\n",
       "        vertical-align: middle;\n",
       "    }\n",
       "\n",
       "    .dataframe tbody tr th {\n",
       "        vertical-align: top;\n",
       "    }\n",
       "\n",
       "    .dataframe thead th {\n",
       "        text-align: right;\n",
       "    }\n",
       "</style>\n",
       "<table border=\"1\" class=\"dataframe\">\n",
       "  <thead>\n",
       "    <tr style=\"text-align: right;\">\n",
       "      <th></th>\n",
       "      <th>Compound Name</th>\n",
       "      <th>Workflow</th>\n",
       "      <th>Associated Target Peak</th>\n",
       "      <th>MS Order</th>\n",
       "      <th>Precursor m/z</th>\n",
       "      <th>Product m/z</th>\n",
       "      <th>m/z</th>\n",
       "      <th>Height Threshold</th>\n",
       "      <th>Area Threshold</th>\n",
       "      <th>Collision Energy</th>\n",
       "      <th>...</th>\n",
       "      <th>Target Ratio</th>\n",
       "      <th>Window Type</th>\n",
       "      <th>PeakPolarity</th>\n",
       "      <th>Adduct</th>\n",
       "      <th>Charge State</th>\n",
       "      <th>Retention Time</th>\n",
       "      <th>Retention Time Window</th>\n",
       "      <th>Integration Strategy</th>\n",
       "      <th>Compound</th>\n",
       "      <th>PTC Confirmed RT</th>\n",
       "    </tr>\n",
       "  </thead>\n",
       "  <tbody>\n",
       "    <tr>\n",
       "      <th>0</th>\n",
       "      <td>(-)-Ketamine</td>\n",
       "      <td>TargetPeak</td>\n",
       "      <td>NaN</td>\n",
       "      <td>ms1</td>\n",
       "      <td>238.09932</td>\n",
       "      <td>238.09932</td>\n",
       "      <td>238.09932</td>\n",
       "      <td>5000</td>\n",
       "      <td>5000</td>\n",
       "      <td>0</td>\n",
       "      <td>...</td>\n",
       "      <td>NaN</td>\n",
       "      <td>eAbsolute</td>\n",
       "      <td>Positive</td>\n",
       "      <td>M+H</td>\n",
       "      <td>1.0</td>\n",
       "      <td>3.77</td>\n",
       "      <td>30.0</td>\n",
       "      <td>Individual</td>\n",
       "      <td>Ketamine</td>\n",
       "      <td>3.99</td>\n",
       "    </tr>\n",
       "    <tr>\n",
       "      <th>1</th>\n",
       "      <td>(-)-Ketamine</td>\n",
       "      <td>Fragment</td>\n",
       "      <td>1</td>\n",
       "      <td>ms2</td>\n",
       "      <td>238.09932</td>\n",
       "      <td>125.01541</td>\n",
       "      <td>125.01541</td>\n",
       "      <td>5000</td>\n",
       "      <td>0</td>\n",
       "      <td>0</td>\n",
       "      <td>...</td>\n",
       "      <td>NaN</td>\n",
       "      <td>eAbsolute</td>\n",
       "      <td>Positive</td>\n",
       "      <td>M+H</td>\n",
       "      <td>1.0</td>\n",
       "      <td>3.77</td>\n",
       "      <td>30.0</td>\n",
       "      <td>Individual</td>\n",
       "      <td>Ketamine</td>\n",
       "      <td>3.99</td>\n",
       "    </tr>\n",
       "    <tr>\n",
       "      <th>2</th>\n",
       "      <td>(-)-Ketamine</td>\n",
       "      <td>Fragment</td>\n",
       "      <td>1</td>\n",
       "      <td>ms2</td>\n",
       "      <td>238.09932</td>\n",
       "      <td>179.06221</td>\n",
       "      <td>179.06221</td>\n",
       "      <td>5000</td>\n",
       "      <td>0</td>\n",
       "      <td>0</td>\n",
       "      <td>...</td>\n",
       "      <td>NaN</td>\n",
       "      <td>eAbsolute</td>\n",
       "      <td>Positive</td>\n",
       "      <td>M+H</td>\n",
       "      <td>1.0</td>\n",
       "      <td>3.77</td>\n",
       "      <td>30.0</td>\n",
       "      <td>Individual</td>\n",
       "      <td>Ketamine</td>\n",
       "      <td>3.99</td>\n",
       "    </tr>\n",
       "    <tr>\n",
       "      <th>3</th>\n",
       "      <td>(-)-Ketamine</td>\n",
       "      <td>Fragment</td>\n",
       "      <td>1</td>\n",
       "      <td>ms2</td>\n",
       "      <td>238.09932</td>\n",
       "      <td>207.05737</td>\n",
       "      <td>207.05737</td>\n",
       "      <td>5000</td>\n",
       "      <td>0</td>\n",
       "      <td>0</td>\n",
       "      <td>...</td>\n",
       "      <td>NaN</td>\n",
       "      <td>eAbsolute</td>\n",
       "      <td>Positive</td>\n",
       "      <td>M+H</td>\n",
       "      <td>1.0</td>\n",
       "      <td>3.77</td>\n",
       "      <td>30.0</td>\n",
       "      <td>Individual</td>\n",
       "      <td>Ketamine</td>\n",
       "      <td>3.99</td>\n",
       "    </tr>\n",
       "    <tr>\n",
       "      <th>4</th>\n",
       "      <td>(-)-Ketamine</td>\n",
       "      <td>Fragment</td>\n",
       "      <td>1</td>\n",
       "      <td>ms2</td>\n",
       "      <td>238.09932</td>\n",
       "      <td>220.08827</td>\n",
       "      <td>220.08827</td>\n",
       "      <td>5000</td>\n",
       "      <td>0</td>\n",
       "      <td>0</td>\n",
       "      <td>...</td>\n",
       "      <td>NaN</td>\n",
       "      <td>eAbsolute</td>\n",
       "      <td>Positive</td>\n",
       "      <td>M+H</td>\n",
       "      <td>1.0</td>\n",
       "      <td>3.77</td>\n",
       "      <td>30.0</td>\n",
       "      <td>Individual</td>\n",
       "      <td>Ketamine</td>\n",
       "      <td>3.99</td>\n",
       "    </tr>\n",
       "  </tbody>\n",
       "</table>\n",
       "<p>5 rows × 25 columns</p>\n",
       "</div>"
      ],
      "text/plain": [
       "  Compound Name    Workflow Associated Target Peak MS Order Precursor m/z  \\\n",
       "0  (-)-Ketamine  TargetPeak                    NaN      ms1     238.09932   \n",
       "1  (-)-Ketamine    Fragment                      1      ms2     238.09932   \n",
       "2  (-)-Ketamine    Fragment                      1      ms2     238.09932   \n",
       "3  (-)-Ketamine    Fragment                      1      ms2     238.09932   \n",
       "4  (-)-Ketamine    Fragment                      1      ms2     238.09932   \n",
       "\n",
       "  Product m/z        m/z Height Threshold Area Threshold Collision Energy  \\\n",
       "0   238.09932  238.09932             5000           5000                0   \n",
       "1   125.01541  125.01541             5000              0                0   \n",
       "2   179.06221  179.06221             5000              0                0   \n",
       "3   207.05737  207.05737             5000              0                0   \n",
       "4   220.08827  220.08827             5000              0                0   \n",
       "\n",
       "   ...  Target Ratio  Window Type  PeakPolarity  Adduct  Charge State  \\\n",
       "0  ...           NaN    eAbsolute      Positive     M+H           1.0   \n",
       "1  ...           NaN    eAbsolute      Positive     M+H           1.0   \n",
       "2  ...           NaN    eAbsolute      Positive     M+H           1.0   \n",
       "3  ...           NaN    eAbsolute      Positive     M+H           1.0   \n",
       "4  ...           NaN    eAbsolute      Positive     M+H           1.0   \n",
       "\n",
       "   Retention Time Retention Time Window Integration Strategy  Compound  \\\n",
       "0            3.77                  30.0           Individual  Ketamine   \n",
       "1            3.77                  30.0           Individual  Ketamine   \n",
       "2            3.77                  30.0           Individual  Ketamine   \n",
       "3            3.77                  30.0           Individual  Ketamine   \n",
       "4            3.77                  30.0           Individual  Ketamine   \n",
       "\n",
       "   PTC Confirmed RT  \n",
       "0              3.99  \n",
       "1              3.99  \n",
       "2              3.99  \n",
       "3              3.99  \n",
       "4              3.99  \n",
       "\n",
       "[5 rows x 25 columns]"
      ]
     },
     "execution_count": 59,
     "metadata": {},
     "output_type": "execute_result"
    }
   ],
   "source": [
    "other_df.head()"
   ]
  },
  {
   "cell_type": "code",
   "execution_count": 78,
   "id": "3fbce409-feaa-45e7-9804-d107a0566a20",
   "metadata": {},
   "outputs": [],
   "source": [
    "import pickle"
   ]
  },
  {
   "cell_type": "code",
   "execution_count": 124,
   "id": "69b447a4-c34e-464d-8980-d5fabe688b51",
   "metadata": {},
   "outputs": [],
   "source": [
    "def compound_name_to_smiles(compound):\n",
    "    \"\"\"\n",
    "    Parameters\n",
    "    ----------\n",
    "        compound : String\n",
    "            Compound Name\n",
    "    Returns\n",
    "    -------\n",
    "        smiles : String\n",
    "            SMILEs in str format\n",
    "    \"\"\"\n",
    "    def name_to_smiles(name):\n",
    "        try:\n",
    "            compound = pcp.get_compounds(name, 'name')\n",
    "            if compound:\n",
    "                return compound[0].canonical_smiles\n",
    "            else:\n",
    "                return None\n",
    "        except Exception as e:\n",
    "            return None\n",
    "\n",
    "    if isinstance(compound, pd.Series):\n",
    "        return compound.apply(name_to_smiles)\n",
    "    elif isinstance(compound, str):\n",
    "        return name_to_smiles(compound)\n",
    "    else:\n",
    "        raise ValueError(\"Input must be a string or a pandas Series.\")\n",
    "\n",
    "def add_smiles_to_data(data, compound_col = 'Compound'):\n",
    "    \"\"\"\n",
    "    Parameters\n",
    "    ----------\n",
    "        data : pd.DataFrame\n",
    "            Dataframe with a compound column (default: `Column`)\n",
    "    Returns\n",
    "    -------\n",
    "        data : pd.DataFrame\n",
    "            The same dataframe with a  `SMILES` column         \n",
    "    \"\"\"\n",
    "    # Extract unique compound names\n",
    "    unique_compounds = data[compound_col].unique()\n",
    "    \n",
    "    if os.path.exists(os.path.join('libraries', 'smiles_dict.pkl')):\n",
    "        # If the pickle file exists, load the dictionary from the file\n",
    "        with open(os.path.join('libraries', 'smiles_dict.pkl'), 'rb') as f:\n",
    "            smiles_dict = pickle.load(f)\n",
    "    else:\n",
    "        # Apply the SMILES conversion function to unique compound names\n",
    "        smiles_dict = {compound: compound_name_to_smiles(compound) for compound in unique_compounds}\n",
    "    \n",
    "        # Save the smiles_dict to a pickle file\n",
    "        with open(os.path.join('libraries', 'smiles_dict.pkl'), 'wb') as f:\n",
    "            pickle.dump(smiles_dict, f)\n",
    "    # Map the SMILES strings back to the original DataFrame\n",
    "    data['SMILES'] = data[compound_col].map(smiles_dict)\n",
    "    \n",
    "    return data"
   ]
  },
  {
   "cell_type": "code",
   "execution_count": 125,
   "id": "9f321497-ccff-4cfb-b9c6-e2d43542dde8",
   "metadata": {
    "scrolled": true
   },
   "outputs": [
    {
     "ename": "ValueError",
     "evalue": "Input must be a string or a pandas Series.",
     "output_type": "error",
     "traceback": [
      "\u001b[1;31m---------------------------------------------------------------------------\u001b[0m",
      "\u001b[1;31mValueError\u001b[0m                                Traceback (most recent call last)",
      "Cell \u001b[1;32mIn[125], line 1\u001b[0m\n\u001b[1;32m----> 1\u001b[0m other_df \u001b[38;5;241m=\u001b[39m \u001b[43madd_smiles_to_data\u001b[49m\u001b[43m(\u001b[49m\u001b[43mother_df\u001b[49m\u001b[43m,\u001b[49m\u001b[43m \u001b[49m\u001b[38;5;124;43m'\u001b[39;49m\u001b[38;5;124;43mCompound\u001b[39;49m\u001b[38;5;124;43m'\u001b[39;49m\u001b[43m)\u001b[49m\n",
      "Cell \u001b[1;32mIn[124], line 49\u001b[0m, in \u001b[0;36madd_smiles_to_data\u001b[1;34m(data, compound_col)\u001b[0m\n\u001b[0;32m     46\u001b[0m         smiles_dict \u001b[38;5;241m=\u001b[39m pickle\u001b[38;5;241m.\u001b[39mload(f)\n\u001b[0;32m     47\u001b[0m \u001b[38;5;28;01melse\u001b[39;00m:\n\u001b[0;32m     48\u001b[0m     \u001b[38;5;66;03m# Apply the SMILES conversion function to unique compound names\u001b[39;00m\n\u001b[1;32m---> 49\u001b[0m     smiles_dict \u001b[38;5;241m=\u001b[39m {compound: compound_name_to_smiles(compound) \u001b[38;5;28;01mfor\u001b[39;00m compound \u001b[38;5;129;01min\u001b[39;00m unique_compounds}\n\u001b[0;32m     51\u001b[0m     \u001b[38;5;66;03m# Save the smiles_dict to a pickle file\u001b[39;00m\n\u001b[0;32m     52\u001b[0m     \u001b[38;5;28;01mwith\u001b[39;00m \u001b[38;5;28mopen\u001b[39m(os\u001b[38;5;241m.\u001b[39mpath\u001b[38;5;241m.\u001b[39mjoin(\u001b[38;5;124m'\u001b[39m\u001b[38;5;124mlibraries\u001b[39m\u001b[38;5;124m'\u001b[39m, \u001b[38;5;124m'\u001b[39m\u001b[38;5;124msmiles_dict.pkl\u001b[39m\u001b[38;5;124m'\u001b[39m), \u001b[38;5;124m'\u001b[39m\u001b[38;5;124mwb\u001b[39m\u001b[38;5;124m'\u001b[39m) \u001b[38;5;28;01mas\u001b[39;00m f:\n",
      "Cell \u001b[1;32mIn[124], line 49\u001b[0m, in \u001b[0;36m<dictcomp>\u001b[1;34m(.0)\u001b[0m\n\u001b[0;32m     46\u001b[0m         smiles_dict \u001b[38;5;241m=\u001b[39m pickle\u001b[38;5;241m.\u001b[39mload(f)\n\u001b[0;32m     47\u001b[0m \u001b[38;5;28;01melse\u001b[39;00m:\n\u001b[0;32m     48\u001b[0m     \u001b[38;5;66;03m# Apply the SMILES conversion function to unique compound names\u001b[39;00m\n\u001b[1;32m---> 49\u001b[0m     smiles_dict \u001b[38;5;241m=\u001b[39m {compound: \u001b[43mcompound_name_to_smiles\u001b[49m\u001b[43m(\u001b[49m\u001b[43mcompound\u001b[49m\u001b[43m)\u001b[49m \u001b[38;5;28;01mfor\u001b[39;00m compound \u001b[38;5;129;01min\u001b[39;00m unique_compounds}\n\u001b[0;32m     51\u001b[0m     \u001b[38;5;66;03m# Save the smiles_dict to a pickle file\u001b[39;00m\n\u001b[0;32m     52\u001b[0m     \u001b[38;5;28;01mwith\u001b[39;00m \u001b[38;5;28mopen\u001b[39m(os\u001b[38;5;241m.\u001b[39mpath\u001b[38;5;241m.\u001b[39mjoin(\u001b[38;5;124m'\u001b[39m\u001b[38;5;124mlibraries\u001b[39m\u001b[38;5;124m'\u001b[39m, \u001b[38;5;124m'\u001b[39m\u001b[38;5;124msmiles_dict.pkl\u001b[39m\u001b[38;5;124m'\u001b[39m), \u001b[38;5;124m'\u001b[39m\u001b[38;5;124mwb\u001b[39m\u001b[38;5;124m'\u001b[39m) \u001b[38;5;28;01mas\u001b[39;00m f:\n",
      "Cell \u001b[1;32mIn[124], line 27\u001b[0m, in \u001b[0;36mcompound_name_to_smiles\u001b[1;34m(compound)\u001b[0m\n\u001b[0;32m     25\u001b[0m     \u001b[38;5;28;01mreturn\u001b[39;00m name_to_smiles(compound)\n\u001b[0;32m     26\u001b[0m \u001b[38;5;28;01melse\u001b[39;00m:\n\u001b[1;32m---> 27\u001b[0m     \u001b[38;5;28;01mraise\u001b[39;00m \u001b[38;5;167;01mValueError\u001b[39;00m(\u001b[38;5;124m\"\u001b[39m\u001b[38;5;124mInput must be a string or a pandas Series.\u001b[39m\u001b[38;5;124m\"\u001b[39m)\n",
      "\u001b[1;31mValueError\u001b[0m: Input must be a string or a pandas Series."
     ]
    }
   ],
   "source": [
    "other_df = add_smiles_to_data(other_df, 'Compound')\n"
   ]
  },
  {
   "cell_type": "code",
   "execution_count": 109,
   "id": "8d7c9b3b-598d-450a-b5e1-25b69a2dee31",
   "metadata": {},
   "outputs": [
    {
     "data": {
      "text/plain": [
       "0"
      ]
     },
     "execution_count": 109,
     "metadata": {},
     "output_type": "execute_result"
    }
   ],
   "source": [
    "other_df['SMILES'].isnull().sum()"
   ]
  },
  {
   "cell_type": "code",
   "execution_count": 110,
   "id": "aee1ebfe-f170-4987-91d6-b07e99cafa43",
   "metadata": {},
   "outputs": [
    {
     "data": {
      "text/plain": [
       "Compound\n",
       "Ketamine                12\n",
       "Metanephrine - H2O       6\n",
       "Methiocarb               6\n",
       "Methenolone              6\n",
       "Methedrone               6\n",
       "                        ..\n",
       "Nor-delta9-THC-COOH      1\n",
       "Nitrazepam-d5            1\n",
       "7-Aminoclonazepam-d4     1\n",
       "Ibuprofen                1\n",
       "Benzylone                1\n",
       "Name: count, Length: 1739, dtype: int64"
      ]
     },
     "execution_count": 110,
     "metadata": {},
     "output_type": "execute_result"
    }
   ],
   "source": [
    "other_df['Compound'].value_counts()"
   ]
  },
  {
   "cell_type": "code",
   "execution_count": 111,
   "id": "6cef30bc-ddab-4c05-8b1c-0a1998825931",
   "metadata": {},
   "outputs": [],
   "source": [
    "other_df[['Compound', 'SMILES']].to_csv('Data/check.csv', index=False)"
   ]
  },
  {
   "cell_type": "code",
   "execution_count": 112,
   "id": "fbe803ef-5aee-45c2-816c-7c3be364f27c",
   "metadata": {},
   "outputs": [],
   "source": [
    "trial_df = pd.read_csv('Data/check.csv')"
   ]
  },
  {
   "cell_type": "code",
   "execution_count": 113,
   "id": "f36731a5-81af-4e08-b43d-69d17158c31e",
   "metadata": {},
   "outputs": [
    {
     "data": {
      "text/html": [
       "<div>\n",
       "<style scoped>\n",
       "    .dataframe tbody tr th:only-of-type {\n",
       "        vertical-align: middle;\n",
       "    }\n",
       "\n",
       "    .dataframe tbody tr th {\n",
       "        vertical-align: top;\n",
       "    }\n",
       "\n",
       "    .dataframe thead th {\n",
       "        text-align: right;\n",
       "    }\n",
       "</style>\n",
       "<table border=\"1\" class=\"dataframe\">\n",
       "  <thead>\n",
       "    <tr style=\"text-align: right;\">\n",
       "      <th></th>\n",
       "      <th>Compound</th>\n",
       "      <th>SMILES</th>\n",
       "    </tr>\n",
       "  </thead>\n",
       "  <tbody>\n",
       "    <tr>\n",
       "      <th>0</th>\n",
       "      <td>Ketamine</td>\n",
       "      <td>{'K': '[K]', 'i': 'II', 'n': 'N#N'}</td>\n",
       "    </tr>\n",
       "    <tr>\n",
       "      <th>1</th>\n",
       "      <td>Ketamine</td>\n",
       "      <td>{'K': '[K]', 'i': 'II', 'n': 'N#N'}</td>\n",
       "    </tr>\n",
       "    <tr>\n",
       "      <th>2</th>\n",
       "      <td>Ketamine</td>\n",
       "      <td>{'K': '[K]', 'i': 'II', 'n': 'N#N'}</td>\n",
       "    </tr>\n",
       "    <tr>\n",
       "      <th>3</th>\n",
       "      <td>Ketamine</td>\n",
       "      <td>{'K': '[K]', 'i': 'II', 'n': 'N#N'}</td>\n",
       "    </tr>\n",
       "    <tr>\n",
       "      <th>4</th>\n",
       "      <td>Ketamine</td>\n",
       "      <td>{'K': '[K]', 'i': 'II', 'n': 'N#N'}</td>\n",
       "    </tr>\n",
       "  </tbody>\n",
       "</table>\n",
       "</div>"
      ],
      "text/plain": [
       "   Compound                               SMILES\n",
       "0  Ketamine  {'K': '[K]', 'i': 'II', 'n': 'N#N'}\n",
       "1  Ketamine  {'K': '[K]', 'i': 'II', 'n': 'N#N'}\n",
       "2  Ketamine  {'K': '[K]', 'i': 'II', 'n': 'N#N'}\n",
       "3  Ketamine  {'K': '[K]', 'i': 'II', 'n': 'N#N'}\n",
       "4  Ketamine  {'K': '[K]', 'i': 'II', 'n': 'N#N'}"
      ]
     },
     "execution_count": 113,
     "metadata": {},
     "output_type": "execute_result"
    }
   ],
   "source": [
    "trial_df.head()"
   ]
  },
  {
   "cell_type": "code",
   "execution_count": 105,
   "id": "aaee6fa2-647b-4eb1-9483-55cdacbb91a1",
   "metadata": {},
   "outputs": [
    {
     "data": {
      "text/html": [
       "<div>\n",
       "<style scoped>\n",
       "    .dataframe tbody tr th:only-of-type {\n",
       "        vertical-align: middle;\n",
       "    }\n",
       "\n",
       "    .dataframe tbody tr th {\n",
       "        vertical-align: top;\n",
       "    }\n",
       "\n",
       "    .dataframe thead th {\n",
       "        text-align: right;\n",
       "    }\n",
       "</style>\n",
       "<table border=\"1\" class=\"dataframe\">\n",
       "  <thead>\n",
       "    <tr style=\"text-align: right;\">\n",
       "      <th></th>\n",
       "      <th>Compound Name</th>\n",
       "      <th>Workflow</th>\n",
       "      <th>Associated Target Peak</th>\n",
       "      <th>MS Order</th>\n",
       "      <th>Precursor m/z</th>\n",
       "      <th>Product m/z</th>\n",
       "      <th>m/z</th>\n",
       "      <th>Height Threshold</th>\n",
       "      <th>Area Threshold</th>\n",
       "      <th>Collision Energy</th>\n",
       "      <th>...</th>\n",
       "      <th>Window Type</th>\n",
       "      <th>PeakPolarity</th>\n",
       "      <th>Adduct</th>\n",
       "      <th>Charge State</th>\n",
       "      <th>Retention Time</th>\n",
       "      <th>Retention Time Window</th>\n",
       "      <th>Integration Strategy</th>\n",
       "      <th>Compound</th>\n",
       "      <th>PTC Confirmed RT</th>\n",
       "      <th>SMILES</th>\n",
       "    </tr>\n",
       "  </thead>\n",
       "  <tbody>\n",
       "    <tr>\n",
       "      <th>0</th>\n",
       "      <td>(-)-Ketamine</td>\n",
       "      <td>TargetPeak</td>\n",
       "      <td>NaN</td>\n",
       "      <td>ms1</td>\n",
       "      <td>238.09932</td>\n",
       "      <td>238.09932</td>\n",
       "      <td>238.09932</td>\n",
       "      <td>5000</td>\n",
       "      <td>5000</td>\n",
       "      <td>0</td>\n",
       "      <td>...</td>\n",
       "      <td>eAbsolute</td>\n",
       "      <td>Positive</td>\n",
       "      <td>M+H</td>\n",
       "      <td>1.0</td>\n",
       "      <td>3.77</td>\n",
       "      <td>30.0</td>\n",
       "      <td>Individual</td>\n",
       "      <td>Ketamine</td>\n",
       "      <td>3.99</td>\n",
       "      <td>{'K': '[K]', 'i': 'II', 'n': 'N#N'}</td>\n",
       "    </tr>\n",
       "    <tr>\n",
       "      <th>1</th>\n",
       "      <td>(-)-Ketamine</td>\n",
       "      <td>Fragment</td>\n",
       "      <td>1</td>\n",
       "      <td>ms2</td>\n",
       "      <td>238.09932</td>\n",
       "      <td>125.01541</td>\n",
       "      <td>125.01541</td>\n",
       "      <td>5000</td>\n",
       "      <td>0</td>\n",
       "      <td>0</td>\n",
       "      <td>...</td>\n",
       "      <td>eAbsolute</td>\n",
       "      <td>Positive</td>\n",
       "      <td>M+H</td>\n",
       "      <td>1.0</td>\n",
       "      <td>3.77</td>\n",
       "      <td>30.0</td>\n",
       "      <td>Individual</td>\n",
       "      <td>Ketamine</td>\n",
       "      <td>3.99</td>\n",
       "      <td>{'K': '[K]', 'i': 'II', 'n': 'N#N'}</td>\n",
       "    </tr>\n",
       "    <tr>\n",
       "      <th>2</th>\n",
       "      <td>(-)-Ketamine</td>\n",
       "      <td>Fragment</td>\n",
       "      <td>1</td>\n",
       "      <td>ms2</td>\n",
       "      <td>238.09932</td>\n",
       "      <td>179.06221</td>\n",
       "      <td>179.06221</td>\n",
       "      <td>5000</td>\n",
       "      <td>0</td>\n",
       "      <td>0</td>\n",
       "      <td>...</td>\n",
       "      <td>eAbsolute</td>\n",
       "      <td>Positive</td>\n",
       "      <td>M+H</td>\n",
       "      <td>1.0</td>\n",
       "      <td>3.77</td>\n",
       "      <td>30.0</td>\n",
       "      <td>Individual</td>\n",
       "      <td>Ketamine</td>\n",
       "      <td>3.99</td>\n",
       "      <td>{'K': '[K]', 'i': 'II', 'n': 'N#N'}</td>\n",
       "    </tr>\n",
       "    <tr>\n",
       "      <th>3</th>\n",
       "      <td>(-)-Ketamine</td>\n",
       "      <td>Fragment</td>\n",
       "      <td>1</td>\n",
       "      <td>ms2</td>\n",
       "      <td>238.09932</td>\n",
       "      <td>207.05737</td>\n",
       "      <td>207.05737</td>\n",
       "      <td>5000</td>\n",
       "      <td>0</td>\n",
       "      <td>0</td>\n",
       "      <td>...</td>\n",
       "      <td>eAbsolute</td>\n",
       "      <td>Positive</td>\n",
       "      <td>M+H</td>\n",
       "      <td>1.0</td>\n",
       "      <td>3.77</td>\n",
       "      <td>30.0</td>\n",
       "      <td>Individual</td>\n",
       "      <td>Ketamine</td>\n",
       "      <td>3.99</td>\n",
       "      <td>{'K': '[K]', 'i': 'II', 'n': 'N#N'}</td>\n",
       "    </tr>\n",
       "    <tr>\n",
       "      <th>4</th>\n",
       "      <td>(-)-Ketamine</td>\n",
       "      <td>Fragment</td>\n",
       "      <td>1</td>\n",
       "      <td>ms2</td>\n",
       "      <td>238.09932</td>\n",
       "      <td>220.08827</td>\n",
       "      <td>220.08827</td>\n",
       "      <td>5000</td>\n",
       "      <td>0</td>\n",
       "      <td>0</td>\n",
       "      <td>...</td>\n",
       "      <td>eAbsolute</td>\n",
       "      <td>Positive</td>\n",
       "      <td>M+H</td>\n",
       "      <td>1.0</td>\n",
       "      <td>3.77</td>\n",
       "      <td>30.0</td>\n",
       "      <td>Individual</td>\n",
       "      <td>Ketamine</td>\n",
       "      <td>3.99</td>\n",
       "      <td>{'K': '[K]', 'i': 'II', 'n': 'N#N'}</td>\n",
       "    </tr>\n",
       "  </tbody>\n",
       "</table>\n",
       "<p>5 rows × 26 columns</p>\n",
       "</div>"
      ],
      "text/plain": [
       "  Compound Name    Workflow Associated Target Peak MS Order Precursor m/z  \\\n",
       "0  (-)-Ketamine  TargetPeak                    NaN      ms1     238.09932   \n",
       "1  (-)-Ketamine    Fragment                      1      ms2     238.09932   \n",
       "2  (-)-Ketamine    Fragment                      1      ms2     238.09932   \n",
       "3  (-)-Ketamine    Fragment                      1      ms2     238.09932   \n",
       "4  (-)-Ketamine    Fragment                      1      ms2     238.09932   \n",
       "\n",
       "  Product m/z        m/z Height Threshold Area Threshold Collision Energy  \\\n",
       "0   238.09932  238.09932             5000           5000                0   \n",
       "1   125.01541  125.01541             5000              0                0   \n",
       "2   179.06221  179.06221             5000              0                0   \n",
       "3   207.05737  207.05737             5000              0                0   \n",
       "4   220.08827  220.08827             5000              0                0   \n",
       "\n",
       "   ...  Window Type  PeakPolarity  Adduct  Charge State  Retention Time  \\\n",
       "0  ...    eAbsolute      Positive     M+H           1.0            3.77   \n",
       "1  ...    eAbsolute      Positive     M+H           1.0            3.77   \n",
       "2  ...    eAbsolute      Positive     M+H           1.0            3.77   \n",
       "3  ...    eAbsolute      Positive     M+H           1.0            3.77   \n",
       "4  ...    eAbsolute      Positive     M+H           1.0            3.77   \n",
       "\n",
       "   Retention Time Window Integration Strategy  Compound PTC Confirmed RT  \\\n",
       "0                   30.0           Individual  Ketamine             3.99   \n",
       "1                   30.0           Individual  Ketamine             3.99   \n",
       "2                   30.0           Individual  Ketamine             3.99   \n",
       "3                   30.0           Individual  Ketamine             3.99   \n",
       "4                   30.0           Individual  Ketamine             3.99   \n",
       "\n",
       "                                SMILES  \n",
       "0  {'K': '[K]', 'i': 'II', 'n': 'N#N'}  \n",
       "1  {'K': '[K]', 'i': 'II', 'n': 'N#N'}  \n",
       "2  {'K': '[K]', 'i': 'II', 'n': 'N#N'}  \n",
       "3  {'K': '[K]', 'i': 'II', 'n': 'N#N'}  \n",
       "4  {'K': '[K]', 'i': 'II', 'n': 'N#N'}  \n",
       "\n",
       "[5 rows x 26 columns]"
      ]
     },
     "execution_count": 105,
     "metadata": {},
     "output_type": "execute_result"
    }
   ],
   "source": [
    "other_df.head()"
   ]
  },
  {
   "cell_type": "code",
   "execution_count": 88,
   "id": "d399d75c-15a5-403b-a410-c02414b5cb12",
   "metadata": {},
   "outputs": [
    {
     "data": {
      "text/plain": [
       "0"
      ]
     },
     "execution_count": 88,
     "metadata": {},
     "output_type": "execute_result"
    }
   ],
   "source": [
    "trial_df['SMILES'].isnull().sum()"
   ]
  },
  {
   "cell_type": "code",
   "execution_count": 74,
   "id": "039debf6-ec54-4e16-b6e5-3fecd11ec8e5",
   "metadata": {},
   "outputs": [
    {
     "data": {
      "text/plain": [
       "(1739, 2)"
      ]
     },
     "execution_count": 74,
     "metadata": {},
     "output_type": "execute_result"
    }
   ],
   "source": [
    "trial_df.shape"
   ]
  },
  {
   "cell_type": "code",
   "execution_count": 75,
   "id": "72c181e3-f134-42f6-891a-a71a6dfbea4a",
   "metadata": {},
   "outputs": [
    {
     "data": {
      "text/plain": [
       "0.22944220816561242"
      ]
     },
     "execution_count": 75,
     "metadata": {},
     "output_type": "execute_result"
    }
   ],
   "source": [
    "399/1739"
   ]
  },
  {
   "cell_type": "markdown",
   "id": "294940b3-4dff-477d-b172-13f0654d9fc8",
   "metadata": {},
   "source": [
    "Looks like we have 22% missingness"
   ]
  },
  {
   "cell_type": "code",
   "execution_count": 76,
   "id": "d7aa13cb-c28e-4844-8078-b7dfc0f7749c",
   "metadata": {},
   "outputs": [],
   "source": [
    "import re\n",
    "\n",
    "def format_for_pubchem(name):\n",
    "    # Remove special characters and spaces\n",
    "    formatted_name = re.sub(r'[^\\w\\s]', '', name)\n",
    "    # Replace numbers at the beginning with words\n",
    "    formatted_name = re.sub(r'\\b(\\d+)\\b', lambda x: num2words(int(x.group(0))), formatted_name)\n",
    "    # Capitalize each word and join with spaces\n",
    "    formatted_name = ' '.join(word.capitalize() for word in formatted_name.split())\n",
    "    return formatted_name"
   ]
  },
  {
   "cell_type": "code",
   "execution_count": null,
   "id": "12575c90-b562-4a06-a4d9-636c7c650357",
   "metadata": {},
   "outputs": [],
   "source": []
  }
 ],
 "metadata": {
  "kernelspec": {
   "display_name": "Python 3 (ipykernel)",
   "language": "python",
   "name": "python3"
  },
  "language_info": {
   "codemirror_mode": {
    "name": "ipython",
    "version": 3
   },
   "file_extension": ".py",
   "mimetype": "text/x-python",
   "name": "python",
   "nbconvert_exporter": "python",
   "pygments_lexer": "ipython3",
   "version": "undefined.undefined.undefined"
  }
 },
 "nbformat": 4,
 "nbformat_minor": 5
}
